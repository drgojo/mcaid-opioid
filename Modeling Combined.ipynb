{
 "cells": [
  {
   "cell_type": "code",
   "execution_count": 1,
   "metadata": {},
   "outputs": [],
   "source": [
    "import numpy as np\n",
    "import pandas as pd\n",
    "from sklearn.model_selection import RandomizedSearchCV\n",
    "from sklearn.model_selection import GridSearchCV\n",
    "from sklearn.model_selection import train_test_split\n",
    "import sklearn.metrics\n",
    "from sklearn.utils import resample\n",
    "from sklearn.metrics import precision_score, recall_score, roc_curve, auc, f1_score, balanced_accuracy_score, accuracy_score\n",
    "from sklearn.calibration import calibration_curve\n",
    "import matplotlib.pyplot as plt\n",
    "import seaborn as sns\n",
    "from xgboost import XGBClassifier\n",
    "import xgboost\n",
    "from sklearn.linear_model import Lasso\n",
    "from sklearn.linear_model import LogisticRegression\n",
    "from sklearn import preprocessing\n",
    "import pickle\n",
    "from scipy import stats\n",
    "from sklearn.decomposition import PCA\n",
    "from sklearn.svm import SVC\n",
    "from sklearn.utils import resample\n",
    "pd.set_option('display.max_columns', None)\n",
    "from sklearn.linear_model import SGDClassifier\n",
    "from mpl_toolkits.mplot3d import Axes3D\n",
    "from sklearn.impute import SimpleImputer"
   ]
  },
  {
   "cell_type": "code",
   "execution_count": 2,
   "metadata": {
    "scrolled": true
   },
   "outputs": [],
   "source": [
    "#***** Features\n",
    "STATE = \"*****\"\n",
    "init_opioid_features = pd.read_csv(STATE + \"/init_opioid_features.csv\")\n",
    "dx_features = pd.read_csv(STATE + \"/dx_features.csv\")\n",
    "eligibility_features = pd.read_csv(STATE + \"/eligibility_features.csv\")\n",
    "pre_common_features = pd.read_csv(STATE + \"/pre_common_features.csv\")\n",
    "pre_rx_features = pd.read_csv(STATE + \"/pre_rx_features.csv\")\n",
    "dx_filter_init_feature = pd.read_csv(STATE + \"/dx_filter_init_feature.csv\")\n",
    "\n",
    "full_features = init_opioid_features.merge(dx_features.drop(\"OUTCOME\",axis = 1), how = \"left\", left_on = \"MA_NUM\", right_on = \"MA_NUM\")\n",
    "full_features = full_features.merge(eligibility_features.drop(\"OUTCOME\",axis = 1), how = \"left\", left_on = \"MA_NUM\", right_on = \"MA_NUM\")\n",
    "full_features = full_features.merge(pre_common_features.drop(\"OUTCOME\",axis = 1), how = \"left\", left_on = \"MA_NUM\", right_on = \"MA_NUM\")\n",
    "full_features = full_features.merge(pre_rx_features.drop(\"OUTCOME\",axis = 1), how = \"left\", left_on = \"MA_NUM\", right_on = \"MA_NUM\")\n",
    "full_features = full_features.merge(dx_filter_init_feature, how = \"left\", left_on = \"MA_NUM\", right_on = \"MA_NUM\")\n",
    "\n",
    "dx_columns = dx_features.drop([\"OUTCOME\",\"MA_NUM\"],axis = 1).columns.append(dx_filter_init_feature.drop([\"MA_NUM\"],axis = 1).columns)\n",
    "full_features.loc[:,dx_columns] = full_features.loc[:,dx_columns].fillna(0).astype(bool)\n",
    "\n",
    "full_features = full_features.loc[full_features.ELIGIBILITY_TIME > 30*2]\n",
    "\n",
    "pickle_in = open(STATE + \"/opioid_naive_info_known\",\"rb\")\n",
    "opioid_naive_info_known = pickle.load(pickle_in)\n",
    "\n",
    "full_features.loc[:,\"Hispanic\"] = (full_features.ETHNICITY == '01').astype(float)\n",
    "\n",
    "matrix_features = full_features.drop([\"MA_NUM\",\"CLAIM_ID\",\"Generic_Drug_Name\",\"FIPS\",'ETHNICITY','LANGUAGE','INITIAL_PREG_IND','PREVIOUSLY_PREGNANT'],axis = 1)\n",
    "\n",
    "*****_features = pd.get_dummies(matrix_features, columns = ['DEAClassCode','INITIAL_CLAIM_TYPE','INITIAL_PLACE_OF_SERVICE','PROVIDER_TYPE','PROVIDER_SPECIALTY','PROVIDER_FILE_TYPE','Drug','LongShortActing','Master_Form',\"GENDER\"])\n",
    "*****_features.loc[:,'STATE'] = 1"
   ]
  },
  {
   "cell_type": "code",
   "execution_count": 5,
   "metadata": {},
   "outputs": [
    {
     "name": "stderr",
     "output_type": "stream",
     "text": [
      "/home/ubuntu/anaconda3/lib/python3.7/site-packages/IPython/core/interactiveshell.py:3063: DtypeWarning: Columns (39) have mixed types.Specify dtype option on import or set low_memory=False.\n",
      "  interactivity=interactivity, compiler=compiler, result=result)\n"
     ]
    }
   ],
   "source": [
    "#***** Features\n",
    "STATE = \"*****\"\n",
    "init_opioid_features = pd.read_csv(STATE + \"/init_opioid_features.csv\")\n",
    "dx_features = pd.read_csv(STATE + \"/dx_features.csv\")\n",
    "eligibility_features = pd.read_csv(STATE + \"/eligibility_features.csv\")\n",
    "pre_common_features = pd.read_csv(STATE + \"/pre_common_features.csv\")\n",
    "pre_rx_features = pd.read_csv(STATE + \"/pre_rx_features.csv\")\n",
    "dx_filter_init_feature = pd.read_csv(STATE + \"/dx_filter_init_feature.csv\")\n",
    "\n",
    "full_features = init_opioid_features.merge(dx_features.drop(\"OUTCOME\",axis = 1), how = \"left\", left_on = \"MA_NUM\", right_on = \"MA_NUM\")\n",
    "full_features = full_features.merge(eligibility_features.drop(\"OUTCOME\",axis = 1), how = \"left\", left_on = \"MA_NUM\", right_on = \"MA_NUM\")\n",
    "full_features = full_features.merge(pre_common_features.drop(\"OUTCOME\",axis = 1), how = \"left\", left_on = \"MA_NUM\", right_on = \"MA_NUM\")\n",
    "full_features = full_features.merge(pre_rx_features.drop(\"OUTCOME\",axis = 1), how = \"left\", left_on = \"MA_NUM\", right_on = \"MA_NUM\")\n",
    "full_features = full_features.merge(dx_filter_init_feature, how = \"left\", left_on = \"MA_NUM\", right_on = \"MA_NUM\")\n",
    "\n",
    "dx_columns = dx_features.drop([\"OUTCOME\",\"MA_NUM\"],axis = 1).columns.append(dx_filter_init_feature.drop([\"MA_NUM\"],axis = 1).columns)\n",
    "full_features.loc[:,dx_columns] = full_features.loc[:,dx_columns].fillna(0).astype(bool)\n",
    "\n",
    "full_features = full_features.loc[full_features.ELIGIBILITY_TIME > 30*2]\n",
    "\n",
    "pickle_in = open(STATE + \"/opioid_naive_info_known\",\"rb\")\n",
    "opioid_naive_info_known = pickle.load(pickle_in)\n",
    "\n",
    "full_features.loc[:,\"Hispanic\"] = (full_features.ETHNICITY == 1).astype(float)\n",
    "\n",
    "matrix_features = full_features.drop([\"MA_NUM\",\"CLAIM_ID\",\"Generic_Drug_Name\",\"FIPS\",'ETHNICITY','LANGUAGE','INITIAL_PREG_IND','PREVIOUSLY_PREGNANT'],axis = 1)\n",
    "\n",
    "*****_features = pd.get_dummies(matrix_features, columns = ['DEAClassCode','INITIAL_CLAIM_TYPE','INITIAL_PLACE_OF_SERVICE','PROVIDER_TYPE','PROVIDER_SPECIALTY','PROVIDER_FILE_TYPE','Drug','LongShortActing','Master_Form',\"GENDER\"])\n",
    "*****_features.loc[:,'STATE'] = 2\n"
   ]
  },
  {
   "cell_type": "code",
   "execution_count": 7,
   "metadata": {},
   "outputs": [],
   "source": [
    "#***** Features\n",
    "STATE = \"*****\"\n",
    "init_opioid_features = pd.read_csv(STATE + \"/init_opioid_features.csv\")\n",
    "dx_features = pd.read_csv(STATE + \"/dx_features.csv\")\n",
    "eligibility_features = pd.read_csv(STATE + \"/eligibility_features.csv\")\n",
    "pre_common_features = pd.read_csv(STATE + \"/pre_common_features.csv\")\n",
    "pre_rx_features = pd.read_csv(STATE + \"/pre_rx_features.csv\")\n",
    "dx_filter_init_feature = pd.read_csv(STATE + \"/dx_filter_init_feature.csv\")\n",
    "\n",
    "\n",
    "full_features = init_opioid_features.merge(dx_features.drop(\"OUTCOME\",axis = 1), how = \"left\", left_on = \"MA_NUM\", right_on = \"MA_NUM\")\n",
    "full_features = full_features.merge(eligibility_features.drop(\"OUTCOME\",axis = 1), how = \"left\", left_on = \"MA_NUM\", right_on = \"MA_NUM\")\n",
    "full_features = full_features.merge(pre_common_features.drop(\"OUTCOME\",axis = 1), how = \"left\", left_on = \"MA_NUM\", right_on = \"MA_NUM\")\n",
    "full_features = full_features.merge(pre_rx_features.drop(\"OUTCOME\",axis = 1), how = \"left\", left_on = \"MA_NUM\", right_on = \"MA_NUM\")\n",
    "full_features = full_features.merge(dx_filter_init_feature, how = \"left\", left_on = \"MA_NUM\", right_on = \"MA_NUM\")\n",
    "\n",
    "dx_columns = dx_features.drop([\"OUTCOME\",\"MA_NUM\"],axis = 1).columns.append(dx_filter_init_feature.drop([\"MA_NUM\"],axis = 1).columns)\n",
    "full_features.loc[:,dx_columns] = full_features.loc[:,dx_columns].fillna(0).astype(bool)\n",
    "\n",
    "full_features = full_features.loc[full_features.ELIGIBILITY_TIME > 30*2]\n",
    "\n",
    "pickle_in = open(STATE + \"/opioid_naive_info_known\",\"rb\")\n",
    "opioid_naive_info_known = pickle.load(pickle_in)\n",
    "\n",
    "full_features.loc[:,\"Hispanic\"] = (full_features.ETHNICITY == '01').astype(float)\n",
    "\n",
    "matrix_features = full_features.drop([\"MA_NUM\",\"CLAIM_ID\",\"Generic_Drug_Name\",\"FIPS\",'ETHNICITY','LANGUAGE','INITIAL_PREG_IND','PREVIOUSLY_PREGNANT'],axis = 1)\n",
    "\n",
    "*****_features = pd.get_dummies(matrix_features, columns = ['DEAClassCode','INITIAL_CLAIM_TYPE','INITIAL_PLACE_OF_SERVICE','PROVIDER_TYPE','PROVIDER_SPECIALTY','PROVIDER_FILE_TYPE','Drug','LongShortActing','Master_Form',\"GENDER\"])\n",
    "*****_features.loc[:,'STATE'] = 3\n",
    "*****_features"
   ]
  },
  {
   "cell_type": "code",
   "execution_count": 9,
   "metadata": {},
   "outputs": [
    {
     "name": "stderr",
     "output_type": "stream",
     "text": [
      "/home/ubuntu/anaconda3/lib/python3.7/site-packages/pandas/core/ops/array_ops.py:253: FutureWarning: elementwise comparison failed; returning scalar instead, but in the future will perform elementwise comparison\n",
      "  res_values = method(rvalues)\n"
     ]
    }
   ],
   "source": [
    "#***** Features\n",
    "STATE = \"*****\"\n",
    "init_opioid_features = pd.read_csv(STATE + \"/init_opioid_features.csv\")\n",
    "dx_features = pd.read_csv(STATE + \"/dx_features.csv\")\n",
    "eligibility_features = pd.read_csv(STATE + \"/eligibility_features.csv\")\n",
    "pre_common_features = pd.read_csv(STATE + \"/pre_common_features.csv\")\n",
    "pre_rx_features = pd.read_csv(STATE + \"/pre_rx_features.csv\")\n",
    "dx_filter_init_feature = pd.read_csv(STATE + \"/dx_filter_init_feature.csv\")\n",
    "\n",
    "full_features = init_opioid_features.merge(dx_features.drop(\"OUTCOME\",axis = 1), how = \"left\", left_on = \"MA_NUM\", right_on = \"MA_NUM\")\n",
    "full_features = full_features.merge(eligibility_features.drop(\"OUTCOME\",axis = 1), how = \"left\", left_on = \"MA_NUM\", right_on = \"MA_NUM\")\n",
    "full_features = full_features.merge(pre_common_features.drop(\"OUTCOME\",axis = 1), how = \"left\", left_on = \"MA_NUM\", right_on = \"MA_NUM\")\n",
    "full_features = full_features.merge(pre_rx_features.drop(\"OUTCOME\",axis = 1), how = \"left\", left_on = \"MA_NUM\", right_on = \"MA_NUM\")\n",
    "full_features = full_features.merge(dx_filter_init_feature, how = \"left\", left_on = \"MA_NUM\", right_on = \"MA_NUM\")\n",
    "\n",
    "dx_columns = dx_features.drop([\"OUTCOME\",\"MA_NUM\"],axis = 1).columns.append(dx_filter_init_feature.drop([\"MA_NUM\"],axis = 1).columns)\n",
    "full_features.loc[:,dx_columns] = full_features.loc[:,dx_columns].fillna(0).astype(bool)\n",
    "\n",
    "full_features = full_features.loc[full_features.ELIGIBILITY_TIME > 30*2]\n",
    "\n",
    "pickle_in = open(STATE + \"/opioid_naive_info_known\",\"rb\")\n",
    "opioid_naive_info_known = pickle.load(pickle_in)\n",
    "\n",
    "full_features.loc[:,\"Hispanic\"] = (full_features.ETHNICITY == '01').astype(float)\n",
    "\n",
    "matrix_features = full_features.drop([\"MA_NUM\",\"CLAIM_ID\",\"Generic_Drug_Name\",\"FIPS\",'ETHNICITY','LANGUAGE','INITIAL_PREG_IND','PREVIOUSLY_PREGNANT'],axis = 1)\n",
    "\n",
    "*****_features = pd.get_dummies(matrix_features, columns = ['DEAClassCode','INITIAL_CLAIM_TYPE','INITIAL_PLACE_OF_SERVICE','PROVIDER_TYPE','PROVIDER_SPECIALTY','PROVIDER_FILE_TYPE','Drug','LongShortActing','Master_Form',\"GENDER\"])\n",
    "*****_features.loc[:,'STATE'] = 4"
   ]
  },
  {
   "cell_type": "code",
   "execution_count": 11,
   "metadata": {},
   "outputs": [
    {
     "name": "stderr",
     "output_type": "stream",
     "text": [
      "/home/ubuntu/anaconda3/lib/python3.7/site-packages/IPython/core/interactiveshell.py:3063: DtypeWarning: Columns (38,39) have mixed types.Specify dtype option on import or set low_memory=False.\n",
      "  interactivity=interactivity, compiler=compiler, result=result)\n",
      "/home/ubuntu/anaconda3/lib/python3.7/site-packages/IPython/core/interactiveshell.py:3063: DtypeWarning: Columns (5) have mixed types.Specify dtype option on import or set low_memory=False.\n",
      "  interactivity=interactivity, compiler=compiler, result=result)\n"
     ]
    }
   ],
   "source": [
    "#***** Features\n",
    "STATE = \"*****\"\n",
    "init_opioid_features = pd.read_csv(STATE + \"/init_opioid_features.csv\")\n",
    "dx_features = pd.read_csv(STATE + \"/dx_features.csv\")\n",
    "eligibility_features = pd.read_csv(STATE + \"/eligibility_features.csv\")\n",
    "pre_common_features = pd.read_csv(STATE + \"/pre_common_features.csv\")\n",
    "pre_rx_features = pd.read_csv(STATE + \"/pre_rx_features.csv\")\n",
    "dx_filter_init_feature = pd.read_csv(STATE + \"/dx_filter_init_feature.csv\")\n",
    "\n",
    "full_features = init_opioid_features.merge(dx_features.drop(\"OUTCOME\",axis = 1), how = \"left\", left_on = \"MA_NUM\", right_on = \"MA_NUM\")\n",
    "full_features = full_features.merge(eligibility_features.drop(\"OUTCOME\",axis = 1), how = \"left\", left_on = \"MA_NUM\", right_on = \"MA_NUM\")\n",
    "full_features = full_features.merge(pre_common_features.drop(\"OUTCOME\",axis = 1), how = \"left\", left_on = \"MA_NUM\", right_on = \"MA_NUM\")\n",
    "full_features = full_features.merge(pre_rx_features.drop(\"OUTCOME\",axis = 1), how = \"left\", left_on = \"MA_NUM\", right_on = \"MA_NUM\")\n",
    "full_features = full_features.merge(dx_filter_init_feature, how = \"left\", left_on = \"MA_NUM\", right_on = \"MA_NUM\")\n",
    "\n",
    "dx_columns = dx_features.drop([\"OUTCOME\",\"MA_NUM\"],axis = 1).columns.append(dx_filter_init_feature.drop([\"MA_NUM\"],axis = 1).columns)\n",
    "full_features.loc[:,dx_columns] = full_features.loc[:,dx_columns].fillna(0).astype(bool)\n",
    "\n",
    "full_features = full_features.loc[full_features.ELIGIBILITY_TIME > 30*2]\n",
    "\n",
    "pickle_in = open(STATE + \"/opioid_naive_info_known\",\"rb\")\n",
    "opioid_naive_info_known = pickle.load(pickle_in)\n",
    "\n",
    "full_features.loc[:,\"Hispanic\"] = (full_features.ETHNICITY == '01').astype(float)\n",
    "\n",
    "matrix_features = full_features.drop([\"MA_NUM\",\"CLAIM_ID\",\"Generic_Drug_Name\",\"FIPS\",'ETHNICITY','LANGUAGE','INITIAL_PREG_IND','PREVIOUSLY_PREGNANT'],axis = 1)\n",
    "\n",
    "*****_features = pd.get_dummies(matrix_features, columns = ['DEAClassCode','INITIAL_CLAIM_TYPE','INITIAL_PLACE_OF_SERVICE','PROVIDER_TYPE','PROVIDER_SPECIALTY','PROVIDER_FILE_TYPE','Drug','LongShortActing','Master_Form',\"GENDER\"])\n",
    "*****_features.loc[:,'STATE'] = 5"
   ]
  },
  {
   "cell_type": "code",
   "execution_count": 13,
   "metadata": {},
   "outputs": [],
   "source": [
    "#Nevada Features\n",
    "STATE = \"*****\"\n",
    "init_opioid_features = pd.read_csv(STATE + \"/init_opioid_features.csv\")\n",
    "dx_features = pd.read_csv(STATE + \"/dx_features.csv\")\n",
    "eligibility_features = pd.read_csv(STATE + \"/eligibility_features.csv\")\n",
    "pre_common_features = pd.read_csv(STATE + \"/pre_common_features.csv\")\n",
    "pre_rx_features = pd.read_csv(STATE + \"/pre_rx_features.csv\")\n",
    "dx_filter_init_feature = pd.read_csv(STATE + \"/dx_filter_init_feature.csv\")\n",
    "\n",
    "full_features = init_opioid_features.merge(dx_features.drop(\"OUTCOME\",axis = 1), how = \"left\", left_on = \"MA_NUM\", right_on = \"MA_NUM\")\n",
    "full_features = full_features.merge(eligibility_features.drop(\"OUTCOME\",axis = 1), how = \"left\", left_on = \"MA_NUM\", right_on = \"MA_NUM\")\n",
    "full_features = full_features.merge(pre_common_features.drop(\"OUTCOME\",axis = 1), how = \"left\", left_on = \"MA_NUM\", right_on = \"MA_NUM\")\n",
    "full_features = full_features.merge(pre_rx_features.drop(\"OUTCOME\",axis = 1), how = \"left\", left_on = \"MA_NUM\", right_on = \"MA_NUM\")\n",
    "full_features = full_features.merge(dx_filter_init_feature, how = \"left\", left_on = \"MA_NUM\", right_on = \"MA_NUM\")\n",
    "\n",
    "dx_columns = dx_features.drop([\"OUTCOME\",\"MA_NUM\"],axis = 1).columns.append(dx_filter_init_feature.drop([\"MA_NUM\"],axis = 1).columns)\n",
    "full_features.loc[:,dx_columns] = full_features.loc[:,dx_columns].fillna(0).astype(bool)\n",
    "\n",
    "full_features = full_features.loc[full_features.ELIGIBILITY_TIME > 30*2]\n",
    "\n",
    "pickle_in = open(STATE + \"/opioid_naive_info_known\",\"rb\")\n",
    "opioid_naive_info_known = pickle.load(pickle_in)\n",
    "\n",
    "full_features.loc[:,\"Hispanic\"] = (full_features.ETHNICITY == '01').astype(float)\n",
    "\n",
    "matrix_features = full_features.drop([\"MA_NUM\",\"CLAIM_ID\",\"Generic_Drug_Name\",\"FIPS\",'ETHNICITY','LANGUAGE','INITIAL_PREG_IND','PREVIOUSLY_PREGNANT'],axis = 1)\n",
    "\n",
    "*****_features = pd.get_dummies(matrix_features, columns = ['DEAClassCode','INITIAL_CLAIM_TYPE','INITIAL_PLACE_OF_SERVICE','PROVIDER_TYPE','PROVIDER_SPECIALTY','PROVIDER_FILE_TYPE','Drug','LongShortActing','Master_Form',\"GENDER\"])\n",
    "*****_features.loc[:,'STATE'] = 6"
   ]
  },
  {
   "cell_type": "code",
   "execution_count": 15,
   "metadata": {},
   "outputs": [],
   "source": [
    "total_features = pd.concat([*****_features.sample(n = 30000,replace = True, random_state = 42,axis = 'index'),\n",
    "                            *****_features.sample(n = 30000,replace = True, random_state = 42,axis = 'index'),\n",
    "                            *****_features.sample(n = 30000,replace = True, random_state = 42,axis = 'index'),\n",
    "                            *****_features.sample(n = 30000,replace = True, random_state = 42,axis = 'index'),\n",
    "                            *****_features.sample(n = 30000,replace = True, random_state = 42,axis = 'index'),\n",
    "                            *****_features.sample(n = 30000,replace = True, random_state = 42,axis = 'index')])"
   ]
  },
  {
   "cell_type": "code",
   "execution_count": 16,
   "metadata": {},
   "outputs": [],
   "source": [
    "overlap = set(*****_features.columns).intersection(set(*****_features.columns),set(*****_features.columns),set(*****_features.columns),set(*****_features.columns),set(*****_features.columns))\n",
    "total_features = total_features.loc[:,overlap]"
   ]
  },
  {
   "cell_type": "code",
   "execution_count": 17,
   "metadata": {},
   "outputs": [
    {
     "data": {
      "text/plain": [
       "171"
      ]
     },
     "execution_count": 17,
     "metadata": {},
     "output_type": "execute_result"
    }
   ],
   "source": [
    "len(overlap)"
   ]
  },
  {
   "cell_type": "code",
   "execution_count": 20,
   "metadata": {},
   "outputs": [],
   "source": [
    "#remove any feautures that are present in <= 1% of records\n",
    "total_features = total_features.loc[:,total_features.fillna(0).mean() > .01]"
   ]
  },
  {
   "cell_type": "code",
   "execution_count": 21,
   "metadata": {},
   "outputs": [
    {
     "data": {
      "text/plain": [
       "(180000, 112)"
      ]
     },
     "execution_count": 21,
     "metadata": {},
     "output_type": "execute_result"
    }
   ],
   "source": [
    "total_features.shape"
   ]
  },
  {
   "cell_type": "code",
   "execution_count": 43,
   "metadata": {},
   "outputs": [
    {
     "data": {
      "image/png": "[encoded data removed]",
      "text/plain": [
       "<Figure size 504x288 with 2 Axes>"
      ]
     },
     "metadata": {
      "needs_background": "light"
     },
     "output_type": "display_data"
    }
   ],
   "source": [
    "\n",
    "fig, ax = plt.subplots(ncols=1, sharey=True, figsize=(7, 4))\n",
    "fig.subplots_adjust(hspace=0.5, left=0.07, right=0.93)\n",
    "hb = ax.hexbin( stat_matrix.INITIAL_RX_QUANTITY, stat_matrix.MED,\n",
    "          mincnt = 50,\n",
    "          extent = (0,125,0,100),\n",
    "          gridsize = 10,\n",
    "          vmax = 10000)\n",
    "ax.set_title(\"Initial Quantity by MME Per Day\")\n",
    "ax.set_ylabel(\"MME per Day\")\n",
    "ax.set_xlabel(\"Quantity prescribed\")\n",
    "cb = fig.colorbar(hb, ax=ax)\n",
    "cb.set_label('counts')\n",
    "\n",
    "\n",
    "plt.show()"
   ]
  },
  {
   "cell_type": "code",
   "execution_count": 44,
   "metadata": {},
   "outputs": [
    {
     "data": {
      "image/png": "[encoded data removed]",
      "text/plain": [
       "<Figure size 504x288 with 2 Axes>"
      ]
     },
     "metadata": {
      "needs_background": "light"
     },
     "output_type": "display_data"
    }
   ],
   "source": [
    "\n",
    "fig, ax = plt.subplots(ncols=1, sharey=True, figsize=(7, 4))\n",
    "fig.subplots_adjust(hspace=0.5, left=0.07, right=0.93)\n",
    "hb = ax.hexbin(stat_matrix.INITIAL_RX_QUANTITY, stat_matrix.INITIAL_RX_LENGTH, \n",
    "          mincnt = 50,\n",
    "          extent = (0,100,0,80),\n",
    "          gridsize = 10,\n",
    "          vmax = 10000)\n",
    "ax.set_title(\"Initial Quantity by Days Prescribed\")\n",
    "ax.set_ylabel(\"Days Prescribed\")\n",
    "ax.set_xlabel(\"Quantity prescribed\")\n",
    "cb = fig.colorbar(hb, ax=ax)\n",
    "cb.set_label('counts')\n",
    "\n",
    "\n",
    "plt.show()"
   ]
  },
  {
   "cell_type": "markdown",
   "metadata": {},
   "source": [
    "# Modeling sets"
   ]
  },
  {
   "cell_type": "code",
   "execution_count": 34,
   "metadata": {},
   "outputs": [],
   "source": [
    "#leaving out ***** for full val set\n",
    "fifth_val = total_features.loc[total_features.STATE == 2]\n",
    "total_features = total_features.loc[total_features.STATE != 2]"
   ]
  },
  {
   "cell_type": "code",
   "execution_count": 35,
   "metadata": {},
   "outputs": [],
   "source": [
    "train, test = train_test_split(total_features, stratify = total_features.OUTCOME,test_size=0.2)"
   ]
  },
  {
   "cell_type": "code",
   "execution_count": 36,
   "metadata": {},
   "outputs": [],
   "source": [
    "fill_NaN = SimpleImputer(missing_values=np.nan, strategy='mean')\n",
    "imputed_train = pd.DataFrame(fill_NaN.fit_transform(train))\n",
    "imputed_train.columns = train.columns\n",
    "imputed_train.index = train.index\n",
    "train = imputed_train\n",
    "\n",
    "imputed_test = pd.DataFrame(fill_NaN.transform(test))\n",
    "imputed_test.columns = test.columns\n",
    "imputed_test.index = test.index\n",
    "test = imputed_test\n",
    "\n",
    "imputed_fifth_val = pd.DataFrame(fill_NaN.transform(fifth_val))\n",
    "imputed_fifth_val.columns = fifth_val.columns\n",
    "imputed_fifth_val.index = fifth_val.index\n",
    "fifth_val = imputed_fifth_val\n"
   ]
  },
  {
   "cell_type": "markdown",
   "metadata": {},
   "source": [
    "# Training"
   ]
  },
  {
   "cell_type": "code",
   "execution_count": 37,
   "metadata": {},
   "outputs": [],
   "source": [
    "x_train = train.drop('OUTCOME',axis = 1)\n",
    "y_train = train.OUTCOME"
   ]
  },
  {
   "cell_type": "code",
   "execution_count": 38,
   "metadata": {},
   "outputs": [],
   "source": [
    "scalar = preprocessing.StandardScaler()"
   ]
  },
  {
   "cell_type": "code",
   "execution_count": 40,
   "metadata": {},
   "outputs": [],
   "source": [
    "numeric_columns = ['MED','INITIAL_RX_AMOUNT_BILLED','INITIAL_RX_AMOUNT_PAID','INITIAL_RX_QUANTITY','INITIAL_RX_LENGTH','AGE','TOTAL_PRE_CLAIMS','PRE_NUM_POLYPHARMACY','TOTAL_RXS','PRE_RX_BILLED_SUM','PRE_RX_PAID_SUM','PRE_RX_BILLED_AVG','PRE_RX_PAID_AVG','PRE_RX_QTY_AVG','PRE_RX_DAYS_AVD','PRE_RX_QTY_SUM','PRE_RX_DAYS_SUM', \"Rural_urban_continuum_code_2013\",\"Urban_influence_code_2013\",\"Unemployment_rate_2018\",\"Median_Household_Income_2018\",\"Med_HH_Income_Percent_of_State_Total_2018\",\"PCTPOVALL_2018\",\"Percent_less_than_high_school_1418\",\"Percent_only_high_school_1418\",\"Percent_some_college_1418\",\"Percent_bachelors_or_higher_1418\",\"ELIGIBILITY_TIME\"]"
   ]
  },
  {
   "cell_type": "code",
   "execution_count": 41,
   "metadata": {},
   "outputs": [
    {
     "data": {
      "text/plain": [
       "StandardScaler(copy=True, with_mean=True, with_std=True)"
      ]
     },
     "execution_count": 41,
     "metadata": {},
     "output_type": "execute_result"
    }
   ],
   "source": [
    "scalar.fit(x_train.loc[:,numeric_columns])"
   ]
  },
  {
   "cell_type": "code",
   "execution_count": 42,
   "metadata": {},
   "outputs": [],
   "source": [
    "x_train.loc[:,numeric_columns] = scalar.transform(x_train.loc[:,numeric_columns])"
   ]
  },
  {
   "cell_type": "markdown",
   "metadata": {},
   "source": [
    "# Testing"
   ]
  },
  {
   "cell_type": "code",
   "execution_count": 43,
   "metadata": {},
   "outputs": [],
   "source": [
    "x_test = test.drop('OUTCOME',axis = 1).astype(float)\n",
    "y_test = test.OUTCOME"
   ]
  },
  {
   "cell_type": "code",
   "execution_count": 44,
   "metadata": {},
   "outputs": [],
   "source": [
    "x_test.loc[:,numeric_columns] = scalar.transform(x_test.loc[:,numeric_columns])"
   ]
  },
  {
   "cell_type": "markdown",
   "metadata": {},
   "source": [
    "# Validating"
   ]
  },
  {
   "cell_type": "code",
   "execution_count": 45,
   "metadata": {},
   "outputs": [],
   "source": [
    "x_val = fifth_val.drop('OUTCOME',axis = 1).astype(float)\n",
    "y_val = fifth_val.OUTCOME"
   ]
  },
  {
   "cell_type": "code",
   "execution_count": 46,
   "metadata": {},
   "outputs": [],
   "source": [
    "x_val.loc[:,numeric_columns] = scalar.transform(x_val.loc[:,numeric_columns])"
   ]
  },
  {
   "cell_type": "markdown",
   "metadata": {},
   "source": [
    "# PCA to logistic regression"
   ]
  },
  {
   "cell_type": "code",
   "execution_count": 47,
   "metadata": {},
   "outputs": [],
   "source": [
    "pca = PCA(n_components=10)"
   ]
  },
  {
   "cell_type": "code",
   "execution_count": 48,
   "metadata": {},
   "outputs": [
    {
     "data": {
      "text/plain": [
       "PCA(copy=True, iterated_power='auto', n_components=10, random_state=None,\n",
       "    svd_solver='auto', tol=0.0, whiten=False)"
      ]
     },
     "execution_count": 48,
     "metadata": {},
     "output_type": "execute_result"
    }
   ],
   "source": [
    "pca.fit(x_train)"
   ]
  },
  {
   "cell_type": "code",
   "execution_count": 49,
   "metadata": {},
   "outputs": [
    {
     "name": "stdout",
     "output_type": "stream",
     "text": [
      "[0.44161384 0.22997719 0.21634598 0.02246298 0.01492212 0.00895831\n",
      " 0.00772307 0.00603872 0.00517195 0.00426225]\n"
     ]
    }
   ],
   "source": [
    "print(pca.explained_variance_ratio_)"
   ]
  },
  {
   "cell_type": "code",
   "execution_count": 50,
   "metadata": {},
   "outputs": [],
   "source": [
    "pca_train = pca.transform(x_train)"
   ]
  },
  {
   "cell_type": "markdown",
   "metadata": {},
   "source": [
    "### Visualize"
   ]
  },
  {
   "cell_type": "code",
   "execution_count": 51,
   "metadata": {},
   "outputs": [
    {
     "data": {
      "image/png": "[encoded data removed]",
      "text/plain": [
       "<Figure size 1440x1440 with 1 Axes>"
      ]
     },
     "metadata": {
      "needs_background": "light"
     },
     "output_type": "display_data"
    }
   ],
   "source": [
    "fig = plt.figure(figsize=(20,20))\n",
    "ax1 = fig.add_subplot(111)\n",
    "ax1.scatter(pca_train[y_train == 0][:,0][:1000],pca_train[y_train == 0][:,1][:1000],s = 10,marker = 'x', c = 'red')\n",
    "\n",
    "ax1.scatter(pca_train[y_train == 1][:,0][:1000],pca_train[y_train == 1][:,1][:1000],s = 10,marker = 'x', c = 'green')\n",
    "plt.ylim(-50,300)\n",
    "plt.xlim(-50,300)\n",
    "\n",
    "plt.show()"
   ]
  },
  {
   "cell_type": "code",
   "execution_count": 52,
   "metadata": {},
   "outputs": [
    {
     "data": {
      "image/png": "[encoded data removed]",
      "text/plain": [
       "<Figure size 432x288 with 1 Axes>"
      ]
     },
     "metadata": {
      "needs_background": "light"
     },
     "output_type": "display_data"
    }
   ],
   "source": [
    "fig = plt.figure()\n",
    "ax1 = fig.add_subplot(111, projection='3d')\n",
    "ax1.scatter(pca_train[y_train == 0][:,0][:1000],pca_train[y_train == 0][:,1][:1000],pca_train[y_train == 0][:,2][:1000],s = 1,marker = 'x', c = 'red')\n",
    "\n",
    "ax1.scatter(pca_train[y_train == 1][:,0][:1000],pca_train[y_train == 1][:,1][:1000],pca_train[y_train == 1][:,2][:1000],s = 1,marker = 'x', c = 'green')\n",
    "\n",
    "plt.show()\n"
   ]
  },
  {
   "cell_type": "code",
   "execution_count": 53,
   "metadata": {},
   "outputs": [],
   "source": [
    "pca_logreg = LogisticRegression(random_state = 42, penalty = 'l2', class_weight = 'balanced',max_iter = 1000)\n",
    "params = {'C': np.logspace(0, 4, 15),\n",
    "         }"
   ]
  },
  {
   "cell_type": "code",
   "execution_count": 54,
   "metadata": {},
   "outputs": [],
   "source": [
    "pca_clf = GridSearchCV(pca_logreg, \n",
    "                    params,\n",
    "                    n_jobs = -1,\n",
    "                    scoring = 'roc_auc', \n",
    "                    cv = 3,\n",
    "                    refit = False,\n",
    "                    verbose = 0,\n",
    "                    return_train_score = True)"
   ]
  },
  {
   "cell_type": "code",
   "execution_count": 55,
   "metadata": {},
   "outputs": [
    {
     "data": {
      "text/plain": [
       "GridSearchCV(cv=3, error_score=nan,\n",
       "             estimator=LogisticRegression(C=1.0, class_weight='balanced',\n",
       "                                          dual=False, fit_intercept=True,\n",
       "                                          intercept_scaling=1, l1_ratio=None,\n",
       "                                          max_iter=1000, multi_class='auto',\n",
       "                                          n_jobs=None, penalty='l2',\n",
       "                                          random_state=42, solver='lbfgs',\n",
       "                                          tol=0.0001, verbose=0,\n",
       "                                          warm_start=False),\n",
       "             iid='deprecated', n_jobs=-1,\n",
       "             param_grid={'C': array([1.00000000e+00, 1.93069773e+00, 3.72759372e+00, 7.19685673e+00,\n",
       "       1.38949549e+01, 2.68269580e+01, 5.17947468e+01, 1.00000000e+02,\n",
       "       1.93069773e+02, 3.72759372e+02, 7.19685673e+02, 1.38949549e+03,\n",
       "       2.68269580e+03, 5.17947468e+03, 1.00000000e+04])},\n",
       "             pre_dispatch='2*n_jobs', refit=False, return_train_score=True,\n",
       "             scoring='roc_auc', verbose=0)"
      ]
     },
     "execution_count": 55,
     "metadata": {},
     "output_type": "execute_result"
    }
   ],
   "source": [
    "pca_clf.fit(pca_train,y_train)"
   ]
  },
  {
   "cell_type": "code",
   "execution_count": 56,
   "metadata": {
    "scrolled": true
   },
   "outputs": [
    {
     "data": {
      "text/html": [
       "<div>\n",
       "<style scoped>\n",
       "    .dataframe tbody tr th:only-of-type {\n",
       "        vertical-align: middle;\n",
       "    }\n",
       "\n",
       "    .dataframe tbody tr th {\n",
       "        vertical-align: top;\n",
       "    }\n",
       "\n",
       "    .dataframe thead th {\n",
       "        text-align: right;\n",
       "    }\n",
       "</style>\n",
       "<table border=\"1\" class=\"dataframe\">\n",
       "  <thead>\n",
       "    <tr style=\"text-align: right;\">\n",
       "      <th></th>\n",
       "      <th>mean_fit_time</th>\n",
       "      <th>std_fit_time</th>\n",
       "      <th>mean_score_time</th>\n",
       "      <th>std_score_time</th>\n",
       "      <th>param_C</th>\n",
       "      <th>params</th>\n",
       "      <th>split0_test_score</th>\n",
       "      <th>split1_test_score</th>\n",
       "      <th>split2_test_score</th>\n",
       "      <th>mean_test_score</th>\n",
       "      <th>std_test_score</th>\n",
       "      <th>rank_test_score</th>\n",
       "      <th>split0_train_score</th>\n",
       "      <th>split1_train_score</th>\n",
       "      <th>split2_train_score</th>\n",
       "      <th>mean_train_score</th>\n",
       "      <th>std_train_score</th>\n",
       "    </tr>\n",
       "  </thead>\n",
       "  <tbody>\n",
       "    <tr>\n",
       "      <th>0</th>\n",
       "      <td>0.578749</td>\n",
       "      <td>0.033158</td>\n",
       "      <td>0.016258</td>\n",
       "      <td>0.000182</td>\n",
       "      <td>1</td>\n",
       "      <td>{'C': 1.0}</td>\n",
       "      <td>0.630557</td>\n",
       "      <td>0.635245</td>\n",
       "      <td>0.640675</td>\n",
       "      <td>0.635493</td>\n",
       "      <td>0.004134</td>\n",
       "      <td>15</td>\n",
       "      <td>0.639243</td>\n",
       "      <td>0.636135</td>\n",
       "      <td>0.632378</td>\n",
       "      <td>0.635918</td>\n",
       "      <td>0.002807</td>\n",
       "    </tr>\n",
       "    <tr>\n",
       "      <th>1</th>\n",
       "      <td>0.567218</td>\n",
       "      <td>0.050385</td>\n",
       "      <td>0.018061</td>\n",
       "      <td>0.004167</td>\n",
       "      <td>1.9307</td>\n",
       "      <td>{'C': 1.93069772888325}</td>\n",
       "      <td>0.630559</td>\n",
       "      <td>0.635245</td>\n",
       "      <td>0.640675</td>\n",
       "      <td>0.635493</td>\n",
       "      <td>0.004134</td>\n",
       "      <td>12</td>\n",
       "      <td>0.639245</td>\n",
       "      <td>0.636134</td>\n",
       "      <td>0.632378</td>\n",
       "      <td>0.635919</td>\n",
       "      <td>0.002808</td>\n",
       "    </tr>\n",
       "    <tr>\n",
       "      <th>2</th>\n",
       "      <td>0.513169</td>\n",
       "      <td>0.027142</td>\n",
       "      <td>0.015312</td>\n",
       "      <td>0.001460</td>\n",
       "      <td>3.72759</td>\n",
       "      <td>{'C': 3.72759372031494}</td>\n",
       "      <td>0.630559</td>\n",
       "      <td>0.635245</td>\n",
       "      <td>0.640675</td>\n",
       "      <td>0.635493</td>\n",
       "      <td>0.004134</td>\n",
       "      <td>14</td>\n",
       "      <td>0.639244</td>\n",
       "      <td>0.636134</td>\n",
       "      <td>0.632378</td>\n",
       "      <td>0.635919</td>\n",
       "      <td>0.002807</td>\n",
       "    </tr>\n",
       "    <tr>\n",
       "      <th>3</th>\n",
       "      <td>0.519932</td>\n",
       "      <td>0.055386</td>\n",
       "      <td>0.014793</td>\n",
       "      <td>0.001310</td>\n",
       "      <td>7.19686</td>\n",
       "      <td>{'C': 7.196856730011519}</td>\n",
       "      <td>0.630559</td>\n",
       "      <td>0.635245</td>\n",
       "      <td>0.640675</td>\n",
       "      <td>0.635493</td>\n",
       "      <td>0.004133</td>\n",
       "      <td>5</td>\n",
       "      <td>0.639246</td>\n",
       "      <td>0.636134</td>\n",
       "      <td>0.632378</td>\n",
       "      <td>0.635919</td>\n",
       "      <td>0.002808</td>\n",
       "    </tr>\n",
       "    <tr>\n",
       "      <th>4</th>\n",
       "      <td>0.495385</td>\n",
       "      <td>0.091131</td>\n",
       "      <td>0.014288</td>\n",
       "      <td>0.002062</td>\n",
       "      <td>13.895</td>\n",
       "      <td>{'C': 13.894954943731374}</td>\n",
       "      <td>0.630559</td>\n",
       "      <td>0.635245</td>\n",
       "      <td>0.640675</td>\n",
       "      <td>0.635493</td>\n",
       "      <td>0.004134</td>\n",
       "      <td>11</td>\n",
       "      <td>0.639245</td>\n",
       "      <td>0.636134</td>\n",
       "      <td>0.632378</td>\n",
       "      <td>0.635919</td>\n",
       "      <td>0.002808</td>\n",
       "    </tr>\n",
       "  </tbody>\n",
       "</table>\n",
       "</div>"
      ],
      "text/plain": [
       "   mean_fit_time  std_fit_time  mean_score_time  std_score_time  param_C  \\\n",
       "0       0.578749      0.033158         0.016258        0.000182        1   \n",
       "1       0.567218      0.050385         0.018061        0.004167   1.9307   \n",
       "2       0.513169      0.027142         0.015312        0.001460  3.72759   \n",
       "3       0.519932      0.055386         0.014793        0.001310  7.19686   \n",
       "4       0.495385      0.091131         0.014288        0.002062   13.895   \n",
       "\n",
       "                      params  split0_test_score  split1_test_score  \\\n",
       "0                 {'C': 1.0}           0.630557           0.635245   \n",
       "1    {'C': 1.93069772888325}           0.630559           0.635245   \n",
       "2    {'C': 3.72759372031494}           0.630559           0.635245   \n",
       "3   {'C': 7.196856730011519}           0.630559           0.635245   \n",
       "4  {'C': 13.894954943731374}           0.630559           0.635245   \n",
       "\n",
       "   split2_test_score  mean_test_score  std_test_score  rank_test_score  \\\n",
       "0           0.640675         0.635493        0.004134               15   \n",
       "1           0.640675         0.635493        0.004134               12   \n",
       "2           0.640675         0.635493        0.004134               14   \n",
       "3           0.640675         0.635493        0.004133                5   \n",
       "4           0.640675         0.635493        0.004134               11   \n",
       "\n",
       "   split0_train_score  split1_train_score  split2_train_score  \\\n",
       "0            0.639243            0.636135            0.632378   \n",
       "1            0.639245            0.636134            0.632378   \n",
       "2            0.639244            0.636134            0.632378   \n",
       "3            0.639246            0.636134            0.632378   \n",
       "4            0.639245            0.636134            0.632378   \n",
       "\n",
       "   mean_train_score  std_train_score  \n",
       "0          0.635918         0.002807  \n",
       "1          0.635919         0.002808  \n",
       "2          0.635919         0.002807  \n",
       "3          0.635919         0.002808  \n",
       "4          0.635919         0.002808  "
      ]
     },
     "execution_count": 56,
     "metadata": {},
     "output_type": "execute_result"
    }
   ],
   "source": [
    "pd.DataFrame.from_dict(pca_clf.cv_results_).head()"
   ]
  },
  {
   "cell_type": "code",
   "execution_count": 57,
   "metadata": {},
   "outputs": [
    {
     "name": "stdout",
     "output_type": "stream",
     "text": [
      "Best Params {'C': 51.7947467923121, 'random_state': 42}\n"
     ]
    },
    {
     "data": {
      "text/plain": [
       "LogisticRegression(C=51.7947467923121, class_weight='balanced', dual=False,\n",
       "                   fit_intercept=True, intercept_scaling=1, l1_ratio=None,\n",
       "                   max_iter=500, multi_class='auto', n_jobs=None, penalty='l2',\n",
       "                   random_state=42, solver='lbfgs', tol=0.0001, verbose=0,\n",
       "                   warm_start=False)"
      ]
     },
     "execution_count": 57,
     "metadata": {},
     "output_type": "execute_result"
    }
   ],
   "source": [
    "best_params = pca_clf.cv_results_['params'][np.argmax(pca_clf.cv_results_['mean_test_score'])]\n",
    "best_params['random_state'] = 42\n",
    "print(\"Best Params\", best_params)\n",
    "\n",
    "pca_model = LogisticRegression(**best_params, penalty = 'l2',  class_weight = 'balanced',max_iter = 500)\n",
    "pca_model.fit(pca_train,y_train)"
   ]
  },
  {
   "cell_type": "code",
   "execution_count": 59,
   "metadata": {},
   "outputs": [],
   "source": [
    "pca_test = pca.transform(x_test)"
   ]
  },
  {
   "cell_type": "code",
   "execution_count": 60,
   "metadata": {},
   "outputs": [],
   "source": [
    "y_hat = pca_model.predict_proba(pca_test)[:, 1]"
   ]
  },
  {
   "cell_type": "code",
   "execution_count": 61,
   "metadata": {},
   "outputs": [],
   "source": [
    "precision, recall, thresholds_pr = sklearn.metrics.precision_recall_curve(y_test, y_hat)\n",
    "auc_prc = sklearn.metrics.auc(recall, precision)\n",
    "fpr, tpr, _ = sklearn.metrics.roc_curve(y_test, y_hat)\n",
    "auc_roc = sklearn.metrics.auc(fpr, tpr)"
   ]
  },
  {
   "cell_type": "code",
   "execution_count": 62,
   "metadata": {},
   "outputs": [
    {
     "data": {
      "text/plain": [
       "0.365835504279866"
      ]
     },
     "execution_count": 62,
     "metadata": {},
     "output_type": "execute_result"
    }
   ],
   "source": [
    "precision_score(y_test, y_hat > .5)"
   ]
  },
  {
   "cell_type": "code",
   "execution_count": 63,
   "metadata": {},
   "outputs": [
    {
     "data": {
      "text/plain": [
       "0.5872666666666667"
      ]
     },
     "execution_count": 63,
     "metadata": {},
     "output_type": "execute_result"
    }
   ],
   "source": [
    "accuracy_score(y_test, y_hat > .5)"
   ]
  },
  {
   "cell_type": "code",
   "execution_count": 64,
   "metadata": {},
   "outputs": [
    {
     "data": {
      "text/plain": [
       "0.5792675360946655"
      ]
     },
     "execution_count": 64,
     "metadata": {},
     "output_type": "execute_result"
    }
   ],
   "source": [
    "balanced_accuracy_score(y_test, y_hat > .5)"
   ]
  },
  {
   "cell_type": "code",
   "execution_count": 65,
   "metadata": {},
   "outputs": [
    {
     "data": {
      "text/plain": [
       "0.5599863279024724"
      ]
     },
     "execution_count": 65,
     "metadata": {},
     "output_type": "execute_result"
    }
   ],
   "source": [
    "recall_score(y_test, y_hat > .5)"
   ]
  },
  {
   "cell_type": "code",
   "execution_count": 66,
   "metadata": {},
   "outputs": [
    {
     "data": {
      "text/plain": [
       "0.44255357464433637"
      ]
     },
     "execution_count": 66,
     "metadata": {},
     "output_type": "execute_result"
    }
   ],
   "source": [
    "f1_score(y_test, y_hat > .5)"
   ]
  },
  {
   "cell_type": "code",
   "execution_count": 67,
   "metadata": {},
   "outputs": [
    {
     "name": "stdout",
     "output_type": "stream",
     "text": [
      "AUROC:0.628\n",
      "AUPRC:0.485\n"
     ]
    }
   ],
   "source": [
    "print(\"AUROC:{:.3f}\".format(auc_roc))\n",
    "print(\"AUPRC:{:.3f}\".format(auc_prc))"
   ]
  },
  {
   "cell_type": "code",
   "execution_count": 68,
   "metadata": {
    "scrolled": true
   },
   "outputs": [
    {
     "data": {
      "image/png": "[encoded data removed]",
      "text/plain": [
       "<Figure size 864x432 with 2 Axes>"
      ]
     },
     "metadata": {
      "needs_background": "light"
     },
     "output_type": "display_data"
    }
   ],
   "source": [
    "from sklearn.metrics import average_precision_score, roc_curve, auc\n",
    "\n",
    "avg_pre = average_precision_score(y_test, y_hat)\n",
    "fig, (ax1, ax2) = plt.subplots(1,2,figsize = (12,6))\n",
    "ax1.plot( recall, precision,label = \" average precision = {:0.2f}\".format(avg_pre), lw = 3, alpha = 0.7)\n",
    "ax1.set_ylabel('Precision', fontsize = 14)\n",
    "ax1.set_xlabel('Recall', fontsize = 14)\n",
    "ax1.set_title('Precision-Recall Curve', fontsize = 18)\n",
    "ax1.legend(loc = 'best')\n",
    "\n",
    "#find default threshold\n",
    "close_default = np.argmin(np.abs(thresholds_pr - 0.5))\n",
    "ax1.plot ( recall[close_default], precision[close_default],'o', markersize = 8)\n",
    "\n",
    "fpr, tpr, thresholds_roc = roc_curve(y_test, y_hat)\n",
    "roc_auc = auc(fpr,tpr)\n",
    "ax2.plot(fpr,tpr, label = \" area = {:0.2f}\".format(roc_auc), lw = 3, alpha = 0.7)\n",
    "ax2.plot([0,1], [0,1], 'r', linestyle = \"--\", lw = 2)\n",
    "ax2.set_xlabel(\"False Positive Rate\", fontsize = 14)\n",
    "ax2.set_ylabel(\"True Positive Rate\", fontsize = 14)\n",
    "ax2.set_title(\"ROC Curve\", fontsize = 18)\n",
    "\n",
    "ax2.legend(loc = 'best')\n",
    "\n",
    "#find default threshold\n",
    "close_default = np.argmin(np.abs(thresholds_roc - 0.5))\n",
    "ax2.plot(fpr[close_default], tpr[close_default], 'o', markersize = 8)\n",
    "plt.tight_layout() "
   ]
  },
  {
   "cell_type": "markdown",
   "metadata": {},
   "source": [
    "# Logistic Regression Modeling L2"
   ]
  },
  {
   "cell_type": "code",
   "execution_count": 69,
   "metadata": {},
   "outputs": [
    {
     "data": {
      "text/plain": [
       "GridSearchCV(cv=5, error_score=nan,\n",
       "             estimator=LogisticRegression(C=1.0, class_weight='balanced',\n",
       "                                          dual=False, fit_intercept=True,\n",
       "                                          intercept_scaling=1, l1_ratio=None,\n",
       "                                          max_iter=1000, multi_class='auto',\n",
       "                                          n_jobs=None, penalty='l2',\n",
       "                                          random_state=42, solver='lbfgs',\n",
       "                                          tol=0.0001, verbose=0,\n",
       "                                          warm_start=False),\n",
       "             iid='deprecated', n_jobs=-1,\n",
       "             param_grid={'C': [0.001, 0.005, 0.01, 0.008, 0.02],\n",
       "                         'fit_intercept': [False], 'penalty': ['l2']},\n",
       "             pre_dispatch='2*n_jobs', refit=False, return_train_score=True,\n",
       "             scoring='roc_auc', verbose=0)"
      ]
     },
     "execution_count": 69,
     "metadata": {},
     "output_type": "execute_result"
    }
   ],
   "source": [
    "logreg = LogisticRegression(random_state = 42, penalty = 'l2', solver = 'lbfgs', class_weight = 'balanced',max_iter = 1000)\n",
    "params = {'C': [0.001,.005,0.01,.008,.02],\n",
    "          'penalty': ['l2'],\n",
    "          'fit_intercept':[False]\n",
    "         }\n",
    "logreg_clf = GridSearchCV(logreg, \n",
    "                    params,\n",
    "                    n_jobs = -1,\n",
    "                    scoring = 'roc_auc', \n",
    "                    cv = 5,\n",
    "                    refit = False,\n",
    "                    verbose = 0,\n",
    "                    return_train_score = True)\n",
    "logreg_clf.fit(x_train.drop(\"STATE\", axis = 1),y_train)"
   ]
  },
  {
   "cell_type": "code",
   "execution_count": 70,
   "metadata": {},
   "outputs": [
    {
     "data": {
      "text/html": [
       "<div>\n",
       "<style scoped>\n",
       "    .dataframe tbody tr th:only-of-type {\n",
       "        vertical-align: middle;\n",
       "    }\n",
       "\n",
       "    .dataframe tbody tr th {\n",
       "        vertical-align: top;\n",
       "    }\n",
       "\n",
       "    .dataframe thead th {\n",
       "        text-align: right;\n",
       "    }\n",
       "</style>\n",
       "<table border=\"1\" class=\"dataframe\">\n",
       "  <thead>\n",
       "    <tr style=\"text-align: right;\">\n",
       "      <th></th>\n",
       "      <th>mean_fit_time</th>\n",
       "      <th>std_fit_time</th>\n",
       "      <th>mean_score_time</th>\n",
       "      <th>std_score_time</th>\n",
       "      <th>param_C</th>\n",
       "      <th>param_fit_intercept</th>\n",
       "      <th>param_penalty</th>\n",
       "      <th>params</th>\n",
       "      <th>split0_test_score</th>\n",
       "      <th>split1_test_score</th>\n",
       "      <th>split2_test_score</th>\n",
       "      <th>split3_test_score</th>\n",
       "      <th>split4_test_score</th>\n",
       "      <th>mean_test_score</th>\n",
       "      <th>std_test_score</th>\n",
       "      <th>rank_test_score</th>\n",
       "      <th>split0_train_score</th>\n",
       "      <th>split1_train_score</th>\n",
       "      <th>split2_train_score</th>\n",
       "      <th>split3_train_score</th>\n",
       "      <th>split4_train_score</th>\n",
       "      <th>mean_train_score</th>\n",
       "      <th>std_train_score</th>\n",
       "    </tr>\n",
       "  </thead>\n",
       "  <tbody>\n",
       "    <tr>\n",
       "      <th>0</th>\n",
       "      <td>4.941314</td>\n",
       "      <td>0.170294</td>\n",
       "      <td>0.013339</td>\n",
       "      <td>0.000271</td>\n",
       "      <td>0.001</td>\n",
       "      <td>False</td>\n",
       "      <td>l2</td>\n",
       "      <td>{'C': 0.001, 'fit_intercept': False, 'penalty'...</td>\n",
       "      <td>0.708484</td>\n",
       "      <td>0.716203</td>\n",
       "      <td>0.721294</td>\n",
       "      <td>0.720850</td>\n",
       "      <td>0.726861</td>\n",
       "      <td>0.718738</td>\n",
       "      <td>0.006141</td>\n",
       "      <td>5</td>\n",
       "      <td>0.722268</td>\n",
       "      <td>0.720659</td>\n",
       "      <td>0.719108</td>\n",
       "      <td>0.719366</td>\n",
       "      <td>0.717623</td>\n",
       "      <td>0.719805</td>\n",
       "      <td>0.001565</td>\n",
       "    </tr>\n",
       "    <tr>\n",
       "      <th>1</th>\n",
       "      <td>7.466374</td>\n",
       "      <td>0.419525</td>\n",
       "      <td>0.012458</td>\n",
       "      <td>0.000587</td>\n",
       "      <td>0.005</td>\n",
       "      <td>False</td>\n",
       "      <td>l2</td>\n",
       "      <td>{'C': 0.005, 'fit_intercept': False, 'penalty'...</td>\n",
       "      <td>0.711497</td>\n",
       "      <td>0.720304</td>\n",
       "      <td>0.725248</td>\n",
       "      <td>0.724787</td>\n",
       "      <td>0.730175</td>\n",
       "      <td>0.722402</td>\n",
       "      <td>0.006285</td>\n",
       "      <td>4</td>\n",
       "      <td>0.726356</td>\n",
       "      <td>0.724577</td>\n",
       "      <td>0.723079</td>\n",
       "      <td>0.723168</td>\n",
       "      <td>0.721707</td>\n",
       "      <td>0.723777</td>\n",
       "      <td>0.001577</td>\n",
       "    </tr>\n",
       "    <tr>\n",
       "      <th>2</th>\n",
       "      <td>8.699253</td>\n",
       "      <td>0.403352</td>\n",
       "      <td>0.016969</td>\n",
       "      <td>0.004674</td>\n",
       "      <td>0.01</td>\n",
       "      <td>False</td>\n",
       "      <td>l2</td>\n",
       "      <td>{'C': 0.01, 'fit_intercept': False, 'penalty':...</td>\n",
       "      <td>0.711998</td>\n",
       "      <td>0.721142</td>\n",
       "      <td>0.725981</td>\n",
       "      <td>0.725724</td>\n",
       "      <td>0.730777</td>\n",
       "      <td>0.723124</td>\n",
       "      <td>0.006344</td>\n",
       "      <td>2</td>\n",
       "      <td>0.727226</td>\n",
       "      <td>0.725390</td>\n",
       "      <td>0.723909</td>\n",
       "      <td>0.723919</td>\n",
       "      <td>0.722534</td>\n",
       "      <td>0.724596</td>\n",
       "      <td>0.001596</td>\n",
       "    </tr>\n",
       "    <tr>\n",
       "      <th>3</th>\n",
       "      <td>8.243075</td>\n",
       "      <td>0.397384</td>\n",
       "      <td>0.020340</td>\n",
       "      <td>0.003821</td>\n",
       "      <td>0.008</td>\n",
       "      <td>False</td>\n",
       "      <td>l2</td>\n",
       "      <td>{'C': 0.008, 'fit_intercept': False, 'penalty'...</td>\n",
       "      <td>0.711892</td>\n",
       "      <td>0.720928</td>\n",
       "      <td>0.725775</td>\n",
       "      <td>0.725457</td>\n",
       "      <td>0.730617</td>\n",
       "      <td>0.722934</td>\n",
       "      <td>0.006315</td>\n",
       "      <td>3</td>\n",
       "      <td>0.727002</td>\n",
       "      <td>0.725177</td>\n",
       "      <td>0.723663</td>\n",
       "      <td>0.723721</td>\n",
       "      <td>0.722314</td>\n",
       "      <td>0.724375</td>\n",
       "      <td>0.001595</td>\n",
       "    </tr>\n",
       "    <tr>\n",
       "      <th>4</th>\n",
       "      <td>10.150379</td>\n",
       "      <td>0.402429</td>\n",
       "      <td>0.021503</td>\n",
       "      <td>0.007933</td>\n",
       "      <td>0.02</td>\n",
       "      <td>False</td>\n",
       "      <td>l2</td>\n",
       "      <td>{'C': 0.02, 'fit_intercept': False, 'penalty':...</td>\n",
       "      <td>0.712231</td>\n",
       "      <td>0.721598</td>\n",
       "      <td>0.726285</td>\n",
       "      <td>0.726324</td>\n",
       "      <td>0.731109</td>\n",
       "      <td>0.723510</td>\n",
       "      <td>0.006391</td>\n",
       "      <td>1</td>\n",
       "      <td>0.727708</td>\n",
       "      <td>0.725830</td>\n",
       "      <td>0.724394</td>\n",
       "      <td>0.724327</td>\n",
       "      <td>0.722999</td>\n",
       "      <td>0.725052</td>\n",
       "      <td>0.001602</td>\n",
       "    </tr>\n",
       "  </tbody>\n",
       "</table>\n",
       "</div>"
      ],
      "text/plain": [
       "   mean_fit_time  std_fit_time  mean_score_time  std_score_time param_C  \\\n",
       "0       4.941314      0.170294         0.013339        0.000271   0.001   \n",
       "1       7.466374      0.419525         0.012458        0.000587   0.005   \n",
       "2       8.699253      0.403352         0.016969        0.004674    0.01   \n",
       "3       8.243075      0.397384         0.020340        0.003821   0.008   \n",
       "4      10.150379      0.402429         0.021503        0.007933    0.02   \n",
       "\n",
       "  param_fit_intercept param_penalty  \\\n",
       "0               False            l2   \n",
       "1               False            l2   \n",
       "2               False            l2   \n",
       "3               False            l2   \n",
       "4               False            l2   \n",
       "\n",
       "                                              params  split0_test_score  \\\n",
       "0  {'C': 0.001, 'fit_intercept': False, 'penalty'...           0.708484   \n",
       "1  {'C': 0.005, 'fit_intercept': False, 'penalty'...           0.711497   \n",
       "2  {'C': 0.01, 'fit_intercept': False, 'penalty':...           0.711998   \n",
       "3  {'C': 0.008, 'fit_intercept': False, 'penalty'...           0.711892   \n",
       "4  {'C': 0.02, 'fit_intercept': False, 'penalty':...           0.712231   \n",
       "\n",
       "   split1_test_score  split2_test_score  split3_test_score  split4_test_score  \\\n",
       "0           0.716203           0.721294           0.720850           0.726861   \n",
       "1           0.720304           0.725248           0.724787           0.730175   \n",
       "2           0.721142           0.725981           0.725724           0.730777   \n",
       "3           0.720928           0.725775           0.725457           0.730617   \n",
       "4           0.721598           0.726285           0.726324           0.731109   \n",
       "\n",
       "   mean_test_score  std_test_score  rank_test_score  split0_train_score  \\\n",
       "0         0.718738        0.006141                5            0.722268   \n",
       "1         0.722402        0.006285                4            0.726356   \n",
       "2         0.723124        0.006344                2            0.727226   \n",
       "3         0.722934        0.006315                3            0.727002   \n",
       "4         0.723510        0.006391                1            0.727708   \n",
       "\n",
       "   split1_train_score  split2_train_score  split3_train_score  \\\n",
       "0            0.720659            0.719108            0.719366   \n",
       "1            0.724577            0.723079            0.723168   \n",
       "2            0.725390            0.723909            0.723919   \n",
       "3            0.725177            0.723663            0.723721   \n",
       "4            0.725830            0.724394            0.724327   \n",
       "\n",
       "   split4_train_score  mean_train_score  std_train_score  \n",
       "0            0.717623          0.719805         0.001565  \n",
       "1            0.721707          0.723777         0.001577  \n",
       "2            0.722534          0.724596         0.001596  \n",
       "3            0.722314          0.724375         0.001595  \n",
       "4            0.722999          0.725052         0.001602  "
      ]
     },
     "execution_count": 70,
     "metadata": {},
     "output_type": "execute_result"
    }
   ],
   "source": [
    "pd.DataFrame.from_dict(logreg_clf.cv_results_).head()"
   ]
  },
  {
   "cell_type": "code",
   "execution_count": 71,
   "metadata": {},
   "outputs": [
    {
     "name": "stdout",
     "output_type": "stream",
     "text": [
      "Best Params {'C': 0.02, 'fit_intercept': False, 'penalty': 'l2', 'random_state': 42}\n"
     ]
    },
    {
     "data": {
      "text/plain": [
       "LogisticRegression(C=0.02, class_weight='balanced', dual=False,\n",
       "                   fit_intercept=False, intercept_scaling=1, l1_ratio=None,\n",
       "                   max_iter=1000, multi_class='auto', n_jobs=None, penalty='l2',\n",
       "                   random_state=42, solver='lbfgs', tol=0.0001, verbose=0,\n",
       "                   warm_start=False)"
      ]
     },
     "execution_count": 71,
     "metadata": {},
     "output_type": "execute_result"
    }
   ],
   "source": [
    "best_params = logreg_clf.cv_results_['params'][np.argmax(logreg_clf.cv_results_['mean_test_score'])]\n",
    "best_params['random_state'] = 42\n",
    "print(\"Best Params\", best_params)\n",
    "\n",
    "logreg = LogisticRegression(**best_params, class_weight = 'balanced',max_iter = 1000)\n",
    "logreg.fit(x_train.drop(\"STATE\", axis = 1),y_train)"
   ]
  },
  {
   "cell_type": "code",
   "execution_count": 72,
   "metadata": {},
   "outputs": [],
   "source": [
    "predictions = logreg.predict(x_test.drop(\"STATE\", axis = 1))"
   ]
  },
  {
   "cell_type": "code",
   "execution_count": 73,
   "metadata": {},
   "outputs": [],
   "source": [
    "y_hat = [pro[1] for pro in logreg.predict_proba(x_test.drop(\"STATE\", axis = 1))]"
   ]
  },
  {
   "cell_type": "code",
   "execution_count": 74,
   "metadata": {},
   "outputs": [
    {
     "data": {
      "text/plain": [
       "array([[15301,  5922],\n",
       "       [ 3525,  5252]])"
      ]
     },
     "execution_count": 74,
     "metadata": {},
     "output_type": "execute_result"
    }
   ],
   "source": [
    "sklearn.metrics.confusion_matrix(y_test,predictions)"
   ]
  },
  {
   "cell_type": "code",
   "execution_count": 75,
   "metadata": {},
   "outputs": [
    {
     "data": {
      "text/plain": [
       "0.6596726205950365"
      ]
     },
     "execution_count": 75,
     "metadata": {},
     "output_type": "execute_result"
    }
   ],
   "source": [
    "balanced_accuracy_score(y_test,predictions)"
   ]
  },
  {
   "cell_type": "code",
   "execution_count": 76,
   "metadata": {},
   "outputs": [
    {
     "data": {
      "text/plain": [
       "0.6851"
      ]
     },
     "execution_count": 76,
     "metadata": {},
     "output_type": "execute_result"
    }
   ],
   "source": [
    "accuracy_score(y_test,predictions)"
   ]
  },
  {
   "cell_type": "code",
   "execution_count": 77,
   "metadata": {},
   "outputs": [
    {
     "data": {
      "text/plain": [
       "0.5264899002556263"
      ]
     },
     "execution_count": 77,
     "metadata": {},
     "output_type": "execute_result"
    }
   ],
   "source": [
    "f1_score(y_test,predictions)"
   ]
  },
  {
   "cell_type": "code",
   "execution_count": 78,
   "metadata": {},
   "outputs": [
    {
     "data": {
      "text/plain": [
       "0.4700196885627349"
      ]
     },
     "execution_count": 78,
     "metadata": {},
     "output_type": "execute_result"
    }
   ],
   "source": [
    "precision_score(y_test,predictions)"
   ]
  },
  {
   "cell_type": "code",
   "execution_count": 79,
   "metadata": {},
   "outputs": [
    {
     "data": {
      "text/plain": [
       "0.5983821351258972"
      ]
     },
     "execution_count": 79,
     "metadata": {},
     "output_type": "execute_result"
    }
   ],
   "source": [
    "recall_score(y_test,predictions)"
   ]
  },
  {
   "cell_type": "code",
   "execution_count": 80,
   "metadata": {},
   "outputs": [],
   "source": [
    "precision, recall, thresholds_pr = sklearn.metrics.precision_recall_curve(y_true = y_test,probas_pred = y_hat)\n",
    "auc_prc = sklearn.metrics.auc(recall, precision)\n",
    "fpr, tpr, _ = sklearn.metrics.roc_curve(y_test,y_hat)\n",
    "auc_roc = sklearn.metrics.auc(fpr, tpr)"
   ]
  },
  {
   "cell_type": "code",
   "execution_count": 81,
   "metadata": {},
   "outputs": [
    {
     "name": "stdout",
     "output_type": "stream",
     "text": [
      "AUROC:0.720\n",
      "AUPRC:0.541\n"
     ]
    }
   ],
   "source": [
    "print(\"AUROC:{:.3f}\".format(auc_roc))\n",
    "print(\"AUPRC:{:.3f}\".format(auc_prc))"
   ]
  },
  {
   "cell_type": "code",
   "execution_count": 82,
   "metadata": {
    "scrolled": true
   },
   "outputs": [
    {
     "data": {
      "image/png": "[encoded data removed]",
      "text/plain": [
       "<Figure size 864x432 with 2 Axes>"
      ]
     },
     "metadata": {
      "needs_background": "light"
     },
     "output_type": "display_data"
    }
   ],
   "source": [
    "from sklearn.metrics import average_precision_score, roc_curve, auc\n",
    "\n",
    "avg_pre = average_precision_score(y_test, y_hat)\n",
    "fig, (ax1, ax2) = plt.subplots(1,2,figsize = (12,6))\n",
    "ax1.plot( recall, precision, label = \" average precision = {:0.2f}\".format(avg_pre), lw = 3, alpha = 0.7)\n",
    "ax1.set_ylabel('Precision', fontsize = 14)\n",
    "ax1.set_xlabel('Recall', fontsize = 14)\n",
    "ax1.set_title('Precision-Recall Curve', fontsize = 18)\n",
    "ax1.legend(loc = 'best')\n",
    "\n",
    "#find default threshold\n",
    "close_default = np.argmin(np.abs(thresholds_pr - 0.5))\n",
    "ax1.plot ( recall[close_default], precision[close_default], 'o', markersize = 8)\n",
    "\n",
    "fpr, tpr, thresholds_roc = roc_curve(y_test, y_hat)\n",
    "roc_auc = auc(fpr,tpr)\n",
    "ax2.plot(fpr,tpr, label = \" area = {:0.2f}\".format(roc_auc), lw = 3, alpha = 0.7)\n",
    "ax2.plot([0,1], [0,1], 'r', linestyle = \"--\", lw = 2)\n",
    "ax2.set_xlabel(\"False Positive Rate\", fontsize = 14)\n",
    "ax2.set_ylabel(\"True Positive Rate\", fontsize = 14)\n",
    "ax2.set_title(\"ROC Curve\", fontsize = 18)\n",
    "\n",
    "ax2.legend(loc = 'best')\n",
    "\n",
    "#find default threshold\n",
    "close_default = np.argmin(np.abs(thresholds_roc - 0.5))\n",
    "ax2.plot(fpr[close_default], tpr[close_default], 'o', markersize = 8)\n",
    "plt.tight_layout() "
   ]
  },
  {
   "cell_type": "code",
   "execution_count": 83,
   "metadata": {
    "scrolled": true
   },
   "outputs": [
    {
     "data": {
      "text/plain": [
       "array([], dtype=int64)"
      ]
     },
     "execution_count": 83,
     "metadata": {},
     "output_type": "execute_result"
    }
   ],
   "source": [
    "np.where(logreg.coef_ == 0)[1]"
   ]
  },
  {
   "cell_type": "code",
   "execution_count": 84,
   "metadata": {},
   "outputs": [],
   "source": [
    "labels = x_train.columns[np.where(logreg.coef_ != 0)[1]]\n",
    "values = logreg.coef_[0][np.where(logreg.coef_ != 0)[1]]\n",
    "                              "
   ]
  },
  {
   "cell_type": "code",
   "execution_count": 85,
   "metadata": {},
   "outputs": [],
   "source": [
    "variable_importance = sorted(list(zip(labels,values)), key = lambda x: -np.abs(x[1]))"
   ]
  },
  {
   "cell_type": "code",
   "execution_count": 86,
   "metadata": {},
   "outputs": [
    {
     "data": {
      "text/plain": [
       "[('InstitutionalEmergency', 1.055503317095968),\n",
       " ('INITIAL_RX_AMOUNT_BILLED', -0.8770934454410023),\n",
       " ('Master_Form_Tablet', 0.7959930667303142),\n",
       " ('Drug_Oxycodone SA', 0.7850850757669985),\n",
       " ('Percent_bachelors_or_higher_1418', -0.729180270917916),\n",
       " ('InstitutionalElective', 0.7035642398134603),\n",
       " ('MED', 0.5015421882827444),\n",
       " ('nortryptaline_ndcs', 0.49436786847627157),\n",
       " ('init_diag_M54', 0.47634592535955184),\n",
       " ('duloxetine_ndcs', 0.41732823915208284),\n",
       " ('Drug_Hydrocodone SA', 0.36799623900499023),\n",
       " ('renal_failure', -0.35114826147814493),\n",
       " ('AGE', 0.30632937938586974),\n",
       " ('inpatient_claim', 0.3034945598119131),\n",
       " ('ambulatory_surgery_claim', -0.29056843261588616),\n",
       " ('gabapentin_ndcs', -0.27655153842350993),\n",
       " ('PRE_RX_BILLED_AVG', 0.2761187558310902),\n",
       " ('hasInstitutional', -0.248524864322268),\n",
       " ('congestive_heart_failure', 0.23361037797417314),\n",
       " ('mental_health_claim', 0.23063212605464878),\n",
       " ('InitOutpatient', -0.22725268017889844),\n",
       " ('weight_loss', 0.21670141954526292),\n",
       " ('InitPhysician', 0.21496797955128608),\n",
       " ('hypertension_uncomplicated', 0.1923209928467866),\n",
       " ('init_diag_Z87', 0.18913349974157387),\n",
       " ('paralysis', 0.18810119516270252),\n",
       " ('init_diag_M79', 0.17952068927230735),\n",
       " ('InitTransportAmb', -0.178860234640193),\n",
       " ('depression', -0.17002842327547715),\n",
       " ('lidocaine_ndcs', 0.16660877036320507),\n",
       " ('hypertension_complicated', 0.16384662770136144),\n",
       " ('PRE_RX_DAYS_SUM', 0.15324277085244356),\n",
       " ('INITIAL_RX_QUANTITY', 0.15157702457192515),\n",
       " ('paroxetine_ndcs', -0.15088252146361852),\n",
       " ('rheumatoid_arhritis', 0.14408736482857165),\n",
       " ('TOTAL_RXS', 0.1262204597583867),\n",
       " ('obesity', 0.12137512793243511),\n",
       " ('Unemployment_rate_2018', 0.11722156147850042),\n",
       " ('GENDER_F', 0.11399220198731368),\n",
       " ('ELIGIBILITY_TIME', -0.11351656451015402),\n",
       " ('init_diag_F17', -0.11058752379688463),\n",
       " ('psychoses', 0.10795598813981071),\n",
       " ('pregabalin_ndcs', -0.10071429670895252),\n",
       " ('InitIndipendantLab', -0.09658731394187371),\n",
       " ('GENDER_M', 0.09571605710790156),\n",
       " ('other_neurological_disorder', 0.08893981635134506),\n",
       " ('fluid_and_electrolyte_disorders', -0.08735039306042476),\n",
       " ('Urban_influence_code_2013', 0.08635439133468524),\n",
       " ('Median_Household_Income_2018', 0.08086599960265287),\n",
       " ('hypothyroidism', 0.08053478301402377),\n",
       " ('cardiac_arrhythmia', -0.07809008559238101),\n",
       " ('Drug_Tramadol SA', -0.07760481697110495),\n",
       " ('init_diag_Z79', 0.06665970529960723),\n",
       " ('PRE_RX_QTY_AVG', -0.06583950075813252),\n",
       " ('Percent_some_college_1418', -0.0633980707715706),\n",
       " ('Med_HH_Income_Percent_of_State_Total_2018', -0.06187455387927193),\n",
       " ('ambulance_claim', -0.052834572014413744),\n",
       " ('INITIAL_RX_LENGTH', 0.04944873014113682),\n",
       " ('init_diag_G89', 0.04919172904163746),\n",
       " ('ibuprofen_ndcs', 0.049032812716952),\n",
       " ('alcohol_abuse', 0.046252254353263585),\n",
       " ('InitPharmacy', 0.04621706819351551),\n",
       " ('deficiency_anemia', 0.045461037488718214),\n",
       " ('diclofenac_ndcs_x', 0.041505077543408604),\n",
       " ('InitDental', 0.04048653996449786),\n",
       " ('TOTAL_PRE_CLAIMS', -0.035497022308895496),\n",
       " ('urgent_care_claim', -0.03547142460561619),\n",
       " ('liver_disease', 0.03413816042237904),\n",
       " ('PCTPOVALL_2018', 0.03296573490410801),\n",
       " ('init_diag_E11', 0.03040138513066985),\n",
       " ('LongShortActing_LA', 0.0300330206008538),\n",
       " ('Percent_less_than_high_school_1418', 0.028483637764114722),\n",
       " ('diabetes_complicated', 0.028348850549755465),\n",
       " ('INITIAL_CLAIM_TYPE_12', 0.027765498162539603),\n",
       " ('amitriptalin_ndcs', 0.02746413951694271),\n",
       " ('chronic_pulmonary_disease', 0.025527993642306516),\n",
       " ('init_diag_R07', 0.025444981196148225),\n",
       " ('LongShortActing_SA', 0.022448719573993678),\n",
       " ('PRE_NUM_POLYPHARMACY', -0.022164600458467795),\n",
       " ('home_claim', -0.02148316055494593),\n",
       " ('doxipen_ndcs', 0.020384544383192673),\n",
       " ('PRE_RX_DAYS_AVD', 0.02000689939631543),\n",
       " ('Rural_urban_continuum_code_2013', 0.01994770065447331),\n",
       " ('PRE_RX_QTY_SUM', 0.018851725963680184),\n",
       " ('PRE_RX_PAID_SUM', -0.01763335467401595),\n",
       " ('init_diag_F41', -0.01748984968220057),\n",
       " ('InitHomeHealth', 0.016883422160366323),\n",
       " ('init_diag_E78', 0.014225002222052871),\n",
       " ('INITIAL_RX_AMOUNT_PAID', 0.013166308453638038),\n",
       " ('init_diag_I10', -0.012945820099696111),\n",
       " ('coagulopathy', 0.01284852185326364),\n",
       " ('Drug_Codeine', -0.01139235938763387),\n",
       " ('STATE', -0.01076936481354103),\n",
       " ('InstitutionalUrgent', 0.010065879263766325),\n",
       " ('naproxen_ndcs', -0.008637465626422957),\n",
       " ('Hispanic', -0.007828087235324105),\n",
       " ('fluoxetine_ndcs', -0.007239093366900172),\n",
       " ('emergency_room_claim', -0.006539333437513727),\n",
       " ('drug_abuse', -0.005924000032666036),\n",
       " ('PRE_RX_PAID_AVG', -0.0053868718716007435),\n",
       " ('PRE_RX_BILLED_SUM', -0.004502060856939575),\n",
       " ('init_diag_M25', 0.004168085224932697),\n",
       " ('outpatient_claim', 0.00121296432165765),\n",
       " ('diabetes_uncomplicated', -0.001004187242348413),\n",
       " ('Percent_only_high_school_1418', 0.000901461988083924),\n",
       " ('venlafaxin_ndcs', 0.0007771851475379144),\n",
       " ('ketorolac_ndcs', -0.0006482588105803155),\n",
       " ('valvular_disease', 0.0005269879661226407),\n",
       " ('peripheral vascular_disorder', -0.0004885167413364007),\n",
       " ('bupropion_ndcs', -4.662424235446755e-05)]"
      ]
     },
     "execution_count": 86,
     "metadata": {},
     "output_type": "execute_result"
    }
   ],
   "source": [
    "variable_importance"
   ]
  },
  {
   "cell_type": "markdown",
   "metadata": {},
   "source": [
    "# Logistic Regression Modeling elasticnet"
   ]
  },
  {
   "cell_type": "code",
   "execution_count": 87,
   "metadata": {},
   "outputs": [
    {
     "data": {
      "text/plain": [
       "GridSearchCV(cv=5, error_score=nan,\n",
       "             estimator=LogisticRegression(C=1.0, class_weight='balanced',\n",
       "                                          dual=False, fit_intercept=True,\n",
       "                                          intercept_scaling=1, l1_ratio=None,\n",
       "                                          max_iter=1000, multi_class='auto',\n",
       "                                          n_jobs=None, penalty='elasticnet',\n",
       "                                          random_state=42, solver='saga',\n",
       "                                          tol=0.0001, verbose=0,\n",
       "                                          warm_start=False),\n",
       "             iid='deprecated', n_jobs=-1,\n",
       "             param_grid={'C': [0.008, 0.02, 0.2], 'fit_intercept': [False],\n",
       "                         'l1_ratio': [0.3, 0.5, 0.7],\n",
       "                         'penalty': ['elasticnet']},\n",
       "             pre_dispatch='2*n_jobs', refit=False, return_train_score=True,\n",
       "             scoring='roc_auc', verbose=0)"
      ]
     },
     "execution_count": 87,
     "metadata": {},
     "output_type": "execute_result"
    }
   ],
   "source": [
    "logreg = LogisticRegression(random_state = 42, penalty = 'elasticnet', solver = 'saga', class_weight = 'balanced',max_iter = 1000)\n",
    "params = {'C': [.008,.02,.2],\n",
    "          'penalty': ['elasticnet'],\n",
    "          'l1_ratio': [.3,.5,.7],\n",
    "          'fit_intercept':[False]\n",
    "         }\n",
    "logreg_clf = GridSearchCV(logreg, \n",
    "                    params,\n",
    "                    n_jobs = -1,\n",
    "                    scoring = 'roc_auc', \n",
    "                    cv = 5,\n",
    "                    refit = False,\n",
    "                    verbose = 0,\n",
    "                    return_train_score = True)\n",
    "logreg_clf.fit(x_train.drop(\"STATE\", axis = 1),y_train)"
   ]
  },
  {
   "cell_type": "code",
   "execution_count": 88,
   "metadata": {},
   "outputs": [
    {
     "data": {
      "text/html": [
       "<div>\n",
       "<style scoped>\n",
       "    .dataframe tbody tr th:only-of-type {\n",
       "        vertical-align: middle;\n",
       "    }\n",
       "\n",
       "    .dataframe tbody tr th {\n",
       "        vertical-align: top;\n",
       "    }\n",
       "\n",
       "    .dataframe thead th {\n",
       "        text-align: right;\n",
       "    }\n",
       "</style>\n",
       "<table border=\"1\" class=\"dataframe\">\n",
       "  <thead>\n",
       "    <tr style=\"text-align: right;\">\n",
       "      <th></th>\n",
       "      <th>mean_fit_time</th>\n",
       "      <th>std_fit_time</th>\n",
       "      <th>mean_score_time</th>\n",
       "      <th>std_score_time</th>\n",
       "      <th>param_C</th>\n",
       "      <th>param_fit_intercept</th>\n",
       "      <th>param_l1_ratio</th>\n",
       "      <th>param_penalty</th>\n",
       "      <th>params</th>\n",
       "      <th>split0_test_score</th>\n",
       "      <th>split1_test_score</th>\n",
       "      <th>split2_test_score</th>\n",
       "      <th>split3_test_score</th>\n",
       "      <th>split4_test_score</th>\n",
       "      <th>mean_test_score</th>\n",
       "      <th>std_test_score</th>\n",
       "      <th>rank_test_score</th>\n",
       "      <th>split0_train_score</th>\n",
       "      <th>split1_train_score</th>\n",
       "      <th>split2_train_score</th>\n",
       "      <th>split3_train_score</th>\n",
       "      <th>split4_train_score</th>\n",
       "      <th>mean_train_score</th>\n",
       "      <th>std_train_score</th>\n",
       "    </tr>\n",
       "  </thead>\n",
       "  <tbody>\n",
       "    <tr>\n",
       "      <th>0</th>\n",
       "      <td>176.620531</td>\n",
       "      <td>0.926018</td>\n",
       "      <td>0.137744</td>\n",
       "      <td>0.015043</td>\n",
       "      <td>0.008</td>\n",
       "      <td>False</td>\n",
       "      <td>0.3</td>\n",
       "      <td>elasticnet</td>\n",
       "      <td>{'C': 0.008, 'fit_intercept': False, 'l1_ratio...</td>\n",
       "      <td>0.707071</td>\n",
       "      <td>0.714528</td>\n",
       "      <td>0.719836</td>\n",
       "      <td>0.719083</td>\n",
       "      <td>0.725597</td>\n",
       "      <td>0.717223</td>\n",
       "      <td>0.006176</td>\n",
       "      <td>7</td>\n",
       "      <td>0.720544</td>\n",
       "      <td>0.718963</td>\n",
       "      <td>0.717452</td>\n",
       "      <td>0.717750</td>\n",
       "      <td>0.715890</td>\n",
       "      <td>0.718120</td>\n",
       "      <td>0.001558</td>\n",
       "    </tr>\n",
       "    <tr>\n",
       "      <th>1</th>\n",
       "      <td>174.233791</td>\n",
       "      <td>3.814696</td>\n",
       "      <td>0.164348</td>\n",
       "      <td>0.054879</td>\n",
       "      <td>0.008</td>\n",
       "      <td>False</td>\n",
       "      <td>0.5</td>\n",
       "      <td>elasticnet</td>\n",
       "      <td>{'C': 0.008, 'fit_intercept': False, 'l1_ratio...</td>\n",
       "      <td>0.706754</td>\n",
       "      <td>0.714040</td>\n",
       "      <td>0.719457</td>\n",
       "      <td>0.718751</td>\n",
       "      <td>0.725209</td>\n",
       "      <td>0.716842</td>\n",
       "      <td>0.006166</td>\n",
       "      <td>8</td>\n",
       "      <td>0.720122</td>\n",
       "      <td>0.718542</td>\n",
       "      <td>0.717011</td>\n",
       "      <td>0.717305</td>\n",
       "      <td>0.715466</td>\n",
       "      <td>0.717689</td>\n",
       "      <td>0.001562</td>\n",
       "    </tr>\n",
       "    <tr>\n",
       "      <th>2</th>\n",
       "      <td>173.848226</td>\n",
       "      <td>6.916821</td>\n",
       "      <td>0.178546</td>\n",
       "      <td>0.063585</td>\n",
       "      <td>0.008</td>\n",
       "      <td>False</td>\n",
       "      <td>0.7</td>\n",
       "      <td>elasticnet</td>\n",
       "      <td>{'C': 0.008, 'fit_intercept': False, 'l1_ratio...</td>\n",
       "      <td>0.706414</td>\n",
       "      <td>0.713507</td>\n",
       "      <td>0.719048</td>\n",
       "      <td>0.718383</td>\n",
       "      <td>0.724777</td>\n",
       "      <td>0.716426</td>\n",
       "      <td>0.006151</td>\n",
       "      <td>9</td>\n",
       "      <td>0.719691</td>\n",
       "      <td>0.718126</td>\n",
       "      <td>0.716547</td>\n",
       "      <td>0.716883</td>\n",
       "      <td>0.715006</td>\n",
       "      <td>0.717251</td>\n",
       "      <td>0.001574</td>\n",
       "    </tr>\n",
       "    <tr>\n",
       "      <th>3</th>\n",
       "      <td>173.633428</td>\n",
       "      <td>3.922668</td>\n",
       "      <td>0.167596</td>\n",
       "      <td>0.052177</td>\n",
       "      <td>0.02</td>\n",
       "      <td>False</td>\n",
       "      <td>0.3</td>\n",
       "      <td>elasticnet</td>\n",
       "      <td>{'C': 0.02, 'fit_intercept': False, 'l1_ratio'...</td>\n",
       "      <td>0.707418</td>\n",
       "      <td>0.715001</td>\n",
       "      <td>0.720270</td>\n",
       "      <td>0.719448</td>\n",
       "      <td>0.725994</td>\n",
       "      <td>0.717626</td>\n",
       "      <td>0.006188</td>\n",
       "      <td>4</td>\n",
       "      <td>0.721021</td>\n",
       "      <td>0.719429</td>\n",
       "      <td>0.717919</td>\n",
       "      <td>0.718230</td>\n",
       "      <td>0.716367</td>\n",
       "      <td>0.718593</td>\n",
       "      <td>0.001558</td>\n",
       "    </tr>\n",
       "    <tr>\n",
       "      <th>4</th>\n",
       "      <td>169.743303</td>\n",
       "      <td>1.683011</td>\n",
       "      <td>0.178040</td>\n",
       "      <td>0.050748</td>\n",
       "      <td>0.02</td>\n",
       "      <td>False</td>\n",
       "      <td>0.5</td>\n",
       "      <td>elasticnet</td>\n",
       "      <td>{'C': 0.02, 'fit_intercept': False, 'l1_ratio'...</td>\n",
       "      <td>0.707300</td>\n",
       "      <td>0.714848</td>\n",
       "      <td>0.720124</td>\n",
       "      <td>0.719311</td>\n",
       "      <td>0.725874</td>\n",
       "      <td>0.717491</td>\n",
       "      <td>0.006187</td>\n",
       "      <td>5</td>\n",
       "      <td>0.720862</td>\n",
       "      <td>0.719272</td>\n",
       "      <td>0.717768</td>\n",
       "      <td>0.718073</td>\n",
       "      <td>0.716204</td>\n",
       "      <td>0.718436</td>\n",
       "      <td>0.001558</td>\n",
       "    </tr>\n",
       "  </tbody>\n",
       "</table>\n",
       "</div>"
      ],
      "text/plain": [
       "   mean_fit_time  std_fit_time  mean_score_time  std_score_time param_C  \\\n",
       "0     176.620531      0.926018         0.137744        0.015043   0.008   \n",
       "1     174.233791      3.814696         0.164348        0.054879   0.008   \n",
       "2     173.848226      6.916821         0.178546        0.063585   0.008   \n",
       "3     173.633428      3.922668         0.167596        0.052177    0.02   \n",
       "4     169.743303      1.683011         0.178040        0.050748    0.02   \n",
       "\n",
       "  param_fit_intercept param_l1_ratio param_penalty  \\\n",
       "0               False            0.3    elasticnet   \n",
       "1               False            0.5    elasticnet   \n",
       "2               False            0.7    elasticnet   \n",
       "3               False            0.3    elasticnet   \n",
       "4               False            0.5    elasticnet   \n",
       "\n",
       "                                              params  split0_test_score  \\\n",
       "0  {'C': 0.008, 'fit_intercept': False, 'l1_ratio...           0.707071   \n",
       "1  {'C': 0.008, 'fit_intercept': False, 'l1_ratio...           0.706754   \n",
       "2  {'C': 0.008, 'fit_intercept': False, 'l1_ratio...           0.706414   \n",
       "3  {'C': 0.02, 'fit_intercept': False, 'l1_ratio'...           0.707418   \n",
       "4  {'C': 0.02, 'fit_intercept': False, 'l1_ratio'...           0.707300   \n",
       "\n",
       "   split1_test_score  split2_test_score  split3_test_score  split4_test_score  \\\n",
       "0           0.714528           0.719836           0.719083           0.725597   \n",
       "1           0.714040           0.719457           0.718751           0.725209   \n",
       "2           0.713507           0.719048           0.718383           0.724777   \n",
       "3           0.715001           0.720270           0.719448           0.725994   \n",
       "4           0.714848           0.720124           0.719311           0.725874   \n",
       "\n",
       "   mean_test_score  std_test_score  rank_test_score  split0_train_score  \\\n",
       "0         0.717223        0.006176                7            0.720544   \n",
       "1         0.716842        0.006166                8            0.720122   \n",
       "2         0.716426        0.006151                9            0.719691   \n",
       "3         0.717626        0.006188                4            0.721021   \n",
       "4         0.717491        0.006187                5            0.720862   \n",
       "\n",
       "   split1_train_score  split2_train_score  split3_train_score  \\\n",
       "0            0.718963            0.717452            0.717750   \n",
       "1            0.718542            0.717011            0.717305   \n",
       "2            0.718126            0.716547            0.716883   \n",
       "3            0.719429            0.717919            0.718230   \n",
       "4            0.719272            0.717768            0.718073   \n",
       "\n",
       "   split4_train_score  mean_train_score  std_train_score  \n",
       "0            0.715890          0.718120         0.001558  \n",
       "1            0.715466          0.717689         0.001562  \n",
       "2            0.715006          0.717251         0.001574  \n",
       "3            0.716367          0.718593         0.001558  \n",
       "4            0.716204          0.718436         0.001558  "
      ]
     },
     "execution_count": 88,
     "metadata": {},
     "output_type": "execute_result"
    }
   ],
   "source": [
    "pd.DataFrame.from_dict(logreg_clf.cv_results_).head()"
   ]
  },
  {
   "cell_type": "code",
   "execution_count": 89,
   "metadata": {},
   "outputs": [
    {
     "name": "stdout",
     "output_type": "stream",
     "text": [
      "Best Params {'C': 0.2, 'fit_intercept': False, 'l1_ratio': 0.3, 'penalty': 'elasticnet', 'random_state': 42}\n"
     ]
    },
    {
     "name": "stderr",
     "output_type": "stream",
     "text": [
      "/home/ubuntu/anaconda3/lib/python3.7/site-packages/sklearn/linear_model/_sag.py:330: ConvergenceWarning: The max_iter was reached which means the coef_ did not converge\n",
      "  \"the coef_ did not converge\", ConvergenceWarning)\n"
     ]
    },
    {
     "data": {
      "text/plain": [
       "LogisticRegression(C=0.2, class_weight='balanced', dual=False,\n",
       "                   fit_intercept=False, intercept_scaling=1, l1_ratio=0.3,\n",
       "                   max_iter=1000, multi_class='auto', n_jobs=None,\n",
       "                   penalty='elasticnet', random_state=42, solver='saga',\n",
       "                   tol=0.0001, verbose=0, warm_start=False)"
      ]
     },
     "execution_count": 89,
     "metadata": {},
     "output_type": "execute_result"
    }
   ],
   "source": [
    "best_params = logreg_clf.cv_results_['params'][np.argmax(logreg_clf.cv_results_['mean_test_score'])]\n",
    "best_params['random_state'] = 42\n",
    "print(\"Best Params\", best_params)\n",
    "\n",
    "logreg = LogisticRegression(**best_params, solver = 'saga', class_weight = 'balanced',max_iter = 1000)\n",
    "logreg.fit(x_train.drop(\"STATE\", axis = 1),y_train)"
   ]
  },
  {
   "cell_type": "code",
   "execution_count": 90,
   "metadata": {},
   "outputs": [],
   "source": [
    "predictions = logreg.predict(x_test.drop(\"STATE\", axis = 1))"
   ]
  },
  {
   "cell_type": "code",
   "execution_count": 91,
   "metadata": {},
   "outputs": [],
   "source": [
    "y_hat = [pro[1] for pro in logreg.predict_proba(x_test.drop(\"STATE\", axis = 1))]"
   ]
  },
  {
   "cell_type": "code",
   "execution_count": 92,
   "metadata": {},
   "outputs": [
    {
     "data": {
      "text/plain": [
       "array([[15302,  5921],\n",
       "       [ 3598,  5179]])"
      ]
     },
     "execution_count": 92,
     "metadata": {},
     "output_type": "execute_result"
    }
   ],
   "source": [
    "sklearn.metrics.confusion_matrix(y_test,predictions)"
   ]
  },
  {
   "cell_type": "code",
   "execution_count": 93,
   "metadata": {},
   "outputs": [
    {
     "data": {
      "text/plain": [
       "0.6555375836097085"
      ]
     },
     "execution_count": 93,
     "metadata": {},
     "output_type": "execute_result"
    }
   ],
   "source": [
    "balanced_accuracy_score(y_test,predictions)"
   ]
  },
  {
   "cell_type": "code",
   "execution_count": 94,
   "metadata": {},
   "outputs": [
    {
     "data": {
      "text/plain": [
       "0.6827"
      ]
     },
     "execution_count": 94,
     "metadata": {},
     "output_type": "execute_result"
    }
   ],
   "source": [
    "accuracy_score(y_test,predictions)"
   ]
  },
  {
   "cell_type": "code",
   "execution_count": 95,
   "metadata": {},
   "outputs": [
    {
     "data": {
      "text/plain": [
       "0.5211047944860895"
      ]
     },
     "execution_count": 95,
     "metadata": {},
     "output_type": "execute_result"
    }
   ],
   "source": [
    "f1_score(y_test,predictions)"
   ]
  },
  {
   "cell_type": "code",
   "execution_count": 96,
   "metadata": {},
   "outputs": [
    {
     "data": {
      "text/plain": [
       "0.4665765765765766"
      ]
     },
     "execution_count": 96,
     "metadata": {},
     "output_type": "execute_result"
    }
   ],
   "source": [
    "precision_score(y_test,predictions)"
   ]
  },
  {
   "cell_type": "code",
   "execution_count": 97,
   "metadata": {},
   "outputs": [
    {
     "data": {
      "text/plain": [
       "0.5900649424632562"
      ]
     },
     "execution_count": 97,
     "metadata": {},
     "output_type": "execute_result"
    }
   ],
   "source": [
    "recall_score(y_test,predictions)"
   ]
  },
  {
   "cell_type": "code",
   "execution_count": 98,
   "metadata": {},
   "outputs": [],
   "source": [
    "precision, recall, thresholds_pr = sklearn.metrics.precision_recall_curve(y_true = y_test,probas_pred = y_hat)\n",
    "auc_prc = sklearn.metrics.auc(recall, precision)\n",
    "fpr, tpr, _ = sklearn.metrics.roc_curve(y_test,y_hat)\n",
    "auc_roc = sklearn.metrics.auc(fpr, tpr)"
   ]
  },
  {
   "cell_type": "code",
   "execution_count": 99,
   "metadata": {},
   "outputs": [
    {
     "name": "stdout",
     "output_type": "stream",
     "text": [
      "AUROC:0.713\n",
      "AUPRC:0.533\n"
     ]
    }
   ],
   "source": [
    "print(\"AUROC:{:.3f}\".format(auc_roc))\n",
    "print(\"AUPRC:{:.3f}\".format(auc_prc))"
   ]
  },
  {
   "cell_type": "code",
   "execution_count": 100,
   "metadata": {
    "scrolled": true
   },
   "outputs": [
    {
     "data": {
      "image/png": "[encoded data removed]",
      "text/plain": [
       "<Figure size 864x432 with 2 Axes>"
      ]
     },
     "metadata": {
      "needs_background": "light"
     },
     "output_type": "display_data"
    }
   ],
   "source": [
    "from sklearn.metrics import average_precision_score, roc_curve, auc\n",
    "\n",
    "avg_pre = average_precision_score(y_test, y_hat)\n",
    "fig, (ax1, ax2) = plt.subplots(1,2,figsize = (12,6))\n",
    "ax1.plot( recall, precision, label = \" average precision = {:0.2f}\".format(avg_pre), lw = 3, alpha = 0.7)\n",
    "ax1.set_ylabel('Precision', fontsize = 14)\n",
    "ax1.set_xlabel('Recall', fontsize = 14)\n",
    "ax1.set_title('Precision-Recall Curve', fontsize = 18)\n",
    "ax1.legend(loc = 'best')\n",
    "\n",
    "#find default threshold\n",
    "close_default = np.argmin(np.abs(thresholds_pr - 0.5))\n",
    "ax1.plot ( recall[close_default], precision[close_default], 'o', markersize = 8)\n",
    "\n",
    "fpr, tpr, thresholds_roc = roc_curve(y_test, y_hat)\n",
    "roc_auc = auc(fpr,tpr)\n",
    "ax2.plot(fpr,tpr, label = \" area = {:0.2f}\".format(roc_auc), lw = 3, alpha = 0.7)\n",
    "ax2.plot([0,1], [0,1], 'r', linestyle = \"--\", lw = 2)\n",
    "ax2.set_xlabel(\"False Positive Rate\", fontsize = 14)\n",
    "ax2.set_ylabel(\"True Positive Rate\", fontsize = 14)\n",
    "ax2.set_title(\"ROC Curve\", fontsize = 18)\n",
    "\n",
    "ax2.legend(loc = 'best')\n",
    "\n",
    "#find default threshold\n",
    "close_default = np.argmin(np.abs(thresholds_roc - 0.5))\n",
    "ax2.plot(fpr[close_default], tpr[close_default], 'o', markersize = 8)\n",
    "plt.tight_layout() "
   ]
  },
  {
   "cell_type": "code",
   "execution_count": 101,
   "metadata": {
    "scrolled": true
   },
   "outputs": [
    {
     "data": {
      "text/plain": [
       "array([], dtype=int64)"
      ]
     },
     "execution_count": 101,
     "metadata": {},
     "output_type": "execute_result"
    }
   ],
   "source": [
    "np.where(logreg.coef_ == 0)[1]"
   ]
  },
  {
   "cell_type": "code",
   "execution_count": 102,
   "metadata": {},
   "outputs": [],
   "source": [
    "labels = x_train.columns[np.where(logreg.coef_ != 0)[1]]\n",
    "values = logreg.coef_[0][np.where(logreg.coef_ != 0)[1]]\n",
    "                              "
   ]
  },
  {
   "cell_type": "code",
   "execution_count": 103,
   "metadata": {},
   "outputs": [],
   "source": [
    "variable_importance = sorted(list(zip(labels,values)), key = lambda x: -np.abs(x[1]))"
   ]
  },
  {
   "cell_type": "code",
   "execution_count": 104,
   "metadata": {},
   "outputs": [
    {
     "data": {
      "text/plain": [
       "[('duloxetine_ndcs', 0.4056595560186785),\n",
       " ('InstitutionalEmergency', 0.3448477439361357),\n",
       " ('init_diag_M54', 0.3197179316906646),\n",
       " ('AGE', 0.31692946527466626),\n",
       " ('PRE_RX_BILLED_AVG', 0.28479882879306956),\n",
       " ('INITIAL_RX_AMOUNT_BILLED', -0.26930296804071846),\n",
       " ('InitOutpatient', -0.22558002247677308),\n",
       " ('weight_loss', 0.21628942828704897),\n",
       " ('gabapentin_ndcs', -0.21576103375634725),\n",
       " ('init_diag_Z87', 0.20193498803109036),\n",
       " ('hypertension_uncomplicated', 0.1971990569841616),\n",
       " ('renal_failure', -0.18600314540533763),\n",
       " ('Percent_bachelors_or_higher_1418', -0.1816460917476443),\n",
       " ('MED', 0.17425432287849427),\n",
       " ('ambulatory_surgery_claim', -0.16140722196746943),\n",
       " ('PRE_RX_DAYS_SUM', 0.1459393511249845),\n",
       " ('Unemployment_rate_2018', 0.14042277651253052),\n",
       " ('lidocaine_ndcs', 0.1382593234322711),\n",
       " ('TOTAL_RXS', 0.13019691875167613),\n",
       " ('obesity', 0.12507654773205723),\n",
       " ('rheumatoid_arhritis', 0.12351314740838815),\n",
       " ('hasInstitutional', -0.10489507978493691),\n",
       " ('Drug_Hydrocodone SA', 0.10345606792215173),\n",
       " ('inpatient_claim', 0.0951395574025026),\n",
       " ('init_diag_M79', 0.09491363674502354),\n",
       " ('mental_health_claim', 0.09354183840985494),\n",
       " ('InitPhysician', 0.0875303549769915),\n",
       " ('Med_HH_Income_Percent_of_State_Total_2018', -0.08570570789844921),\n",
       " ('Median_Household_Income_2018', 0.07948159115467049),\n",
       " ('nortryptaline_ndcs', 0.07679587125135044),\n",
       " ('depression', -0.07436018371825993),\n",
       " ('INITIAL_RX_LENGTH', 0.07416483148093911),\n",
       " ('psychoses', 0.06833554041475574),\n",
       " ('init_diag_Z79', 0.063947313120358),\n",
       " ('hypothyroidism', 0.0568680548227004),\n",
       " ('init_diag_F17', -0.0565435922192256),\n",
       " ('congestive_heart_failure', 0.05605866781390243),\n",
       " ('Urban_influence_code_2013', -0.05600007876712895),\n",
       " ('INITIAL_RX_QUANTITY', 0.05549126871736441),\n",
       " ('GENDER_M', 0.05456239379266946),\n",
       " ('init_diag_G89', 0.05022402859865882),\n",
       " ('InstitutionalElective', 0.04776101621714804),\n",
       " ('Drug_Oxycodone SA', 0.04699203263423237),\n",
       " ('hypertension_complicated', 0.04656032641325002),\n",
       " ('InitPharmacy', 0.04580400108871858),\n",
       " ('diclofenac_ndcs_x', 0.045066071832830644),\n",
       " ('ambulance_claim', 0.044293652159532605),\n",
       " ('ibuprofen_ndcs', 0.04237946901684667),\n",
       " ('pregabalin_ndcs', -0.04226833518436615),\n",
       " ('InstitutionalUrgent', 0.04119643141089073),\n",
       " ('INITIAL_RX_AMOUNT_PAID', 0.04041602949536884),\n",
       " ('Drug_Tramadol SA', 0.04029800536693004),\n",
       " ('Master_Form_Tablet', -0.0389971165638036),\n",
       " ('diabetes_complicated', 0.03713661104911982),\n",
       " ('other_neurological_disorder', 0.03526601574813852),\n",
       " ('PRE_RX_QTY_AVG', -0.031015171931067603),\n",
       " ('ELIGIBILITY_TIME', -0.03095700165213991),\n",
       " ('GENDER_F', 0.030150183038371726),\n",
       " ('LongShortActing_SA', 0.030004379589435748),\n",
       " ('amitriptalin_ndcs', 0.029550316091928958),\n",
       " ('init_diag_R07', 0.029507368490022626),\n",
       " ('Drug_Codeine', 0.02659780732192988),\n",
       " ('InitHomeHealth', 0.026360256954299992),\n",
       " ('Percent_less_than_high_school_1418', 0.025313511774525694),\n",
       " ('coagulopathy', 0.024907223568282084),\n",
       " ('alcohol_abuse', 0.02483067605753308),\n",
       " ('init_diag_E11', 0.02458360361403891),\n",
       " ('PRE_RX_DAYS_AVD', 0.02428818970565425),\n",
       " ('init_diag_F41', 0.02353700395896807),\n",
       " ('PCTPOVALL_2018', 0.021905833627799326),\n",
       " ('InitDental', 0.020877691381023616),\n",
       " ('home_claim', -0.019741128042214458),\n",
       " ('init_diag_E78', 0.01958645578906305),\n",
       " ('fluid_and_electrolyte_disorders', -0.018452052196024686),\n",
       " ('Rural_urban_continuum_code_2013', 0.01837782528576212),\n",
       " ('paralysis', 0.01834568664882377),\n",
       " ('liver_disease', 0.01805837134780843),\n",
       " ('paroxetine_ndcs', -0.017815931660992133),\n",
       " ('PRE_RX_PAID_AVG', 0.0176140588385059),\n",
       " ('deficiency_anemia', 0.017525244653782718),\n",
       " ('INITIAL_CLAIM_TYPE_12', 0.01686966655271451),\n",
       " ('LongShortActing_LA', 0.01658934049664272),\n",
       " ('Percent_some_college_1418', -0.016231038900293326),\n",
       " ('InitIndipendantLab', -0.015784253246243402),\n",
       " ('cardiac_arrhythmia', -0.015391446153631229),\n",
       " ('emergency_room_claim', -0.014731132913967267),\n",
       " ('init_diag_I10', -0.014486011363545893),\n",
       " ('Hispanic', -0.01407053292908029),\n",
       " ('doxipen_ndcs', 0.01314869068268805),\n",
       " ('STATE', 0.011079468118848817),\n",
       " ('chronic_pulmonary_disease', 0.010960844170068965),\n",
       " ('init_diag_M25', 0.010810164720835923),\n",
       " ('Percent_only_high_school_1418', -0.010147062590054639),\n",
       " ('PRE_RX_QTY_SUM', 0.009831001111270683),\n",
       " ('fluoxetine_ndcs', -0.008231083447882242),\n",
       " ('naproxen_ndcs', -0.007956062523744869),\n",
       " ('InitTransportAmb', -0.006812955965794578),\n",
       " ('drug_abuse', -0.006523003273694938),\n",
       " ('PRE_NUM_POLYPHARMACY', -0.006070036582958688),\n",
       " ('PRE_RX_BILLED_SUM', -0.005481506706664958),\n",
       " ('TOTAL_PRE_CLAIMS', -0.004900413289711899),\n",
       " ('urgent_care_claim', -0.004345853925459309),\n",
       " ('PRE_RX_PAID_SUM', -0.002355414769455989),\n",
       " ('diabetes_uncomplicated', -0.002224916612588693),\n",
       " ('outpatient_claim', -0.0014287986349662872),\n",
       " ('valvular_disease', -0.0013282296178795318),\n",
       " ('venlafaxin_ndcs', 0.0012254520991368265),\n",
       " ('ketorolac_ndcs', -0.0011340701179058952),\n",
       " ('peripheral vascular_disorder', 0.0003613741449881458),\n",
       " ('bupropion_ndcs', -0.00021071463776655794)]"
      ]
     },
     "execution_count": 104,
     "metadata": {},
     "output_type": "execute_result"
    }
   ],
   "source": [
    "variable_importance"
   ]
  },
  {
   "cell_type": "markdown",
   "metadata": {},
   "source": [
    "# Multi layer perceptron"
   ]
  },
  {
   "cell_type": "code",
   "execution_count": 105,
   "metadata": {},
   "outputs": [],
   "source": [
    "from sklearn.neural_network import MLPClassifier"
   ]
  },
  {
   "cell_type": "code",
   "execution_count": 106,
   "metadata": {},
   "outputs": [],
   "source": [
    "mlp = MLPClassifier(random_state = 42)\n",
    "params = {'hidden_layer_sizes': [(5,2)],\n",
    "         'solver': ['sgd'],\n",
    "         'learning_rate': ['invscaling','adaptive'],\n",
    "         'activation': ['relu','tanh'],\n",
    "         'alpha': 10.0 ** -np.arange(1, 7),\n",
    "         'early_stopping': [True],\n",
    "         'learning_rate_init': [.001,.0001,.005],\n",
    "         'power_t': [.2,.5,.6],\n",
    "         }"
   ]
  },
  {
   "cell_type": "code",
   "execution_count": 107,
   "metadata": {},
   "outputs": [],
   "source": [
    "mlp_clf = GridSearchCV(mlp, \n",
    "                    params,\n",
    "                    scoring = 'roc_auc',\n",
    "                    n_jobs = -1,\n",
    "                    cv = 2,\n",
    "                    refit = False,\n",
    "                    return_train_score = True)"
   ]
  },
  {
   "cell_type": "code",
   "execution_count": 108,
   "metadata": {},
   "outputs": [
    {
     "data": {
      "text/plain": [
       "GridSearchCV(cv=2, error_score=nan,\n",
       "             estimator=MLPClassifier(activation='relu', alpha=0.0001,\n",
       "                                     batch_size='auto', beta_1=0.9,\n",
       "                                     beta_2=0.999, early_stopping=False,\n",
       "                                     epsilon=1e-08, hidden_layer_sizes=(100,),\n",
       "                                     learning_rate='constant',\n",
       "                                     learning_rate_init=0.001, max_fun=15000,\n",
       "                                     max_iter=200, momentum=0.9,\n",
       "                                     n_iter_no_change=10,\n",
       "                                     nesterovs_momentum=True, power_t=0.5,\n",
       "                                     random_state...\n",
       "                                     solver='adam', tol=0.0001,\n",
       "                                     validation_fraction=0.1, verbose=False,\n",
       "                                     warm_start=False),\n",
       "             iid='deprecated', n_jobs=-1,\n",
       "             param_grid={'activation': ['relu', 'tanh'],\n",
       "                         'early_stopping': [True],\n",
       "                         'hidden_layer_sizes': [(5, 2)],\n",
       "                         'learning_rate_init': [0.001, 0.0001, 0.005],\n",
       "                         'solver': ['sgd']},\n",
       "             pre_dispatch='2*n_jobs', refit=False, return_train_score=True,\n",
       "             scoring='roc_auc', verbose=0)"
      ]
     },
     "execution_count": 108,
     "metadata": {},
     "output_type": "execute_result"
    }
   ],
   "source": [
    "mlp_clf.fit(x_train.drop(\"STATE\", axis = 1),y_train)"
   ]
  },
  {
   "cell_type": "code",
   "execution_count": 109,
   "metadata": {},
   "outputs": [
    {
     "name": "stdout",
     "output_type": "stream",
     "text": [
      "Best Params {'activation': 'tanh', 'early_stopping': True, 'hidden_layer_sizes': (5, 2), 'learning_rate_init': 0.005, 'solver': 'sgd', 'random_state': 42}\n"
     ]
    },
    {
     "data": {
      "text/plain": [
       "MLPClassifier(activation='tanh', alpha=0.0001, batch_size='auto', beta_1=0.9,\n",
       "              beta_2=0.999, early_stopping=True, epsilon=1e-08,\n",
       "              hidden_layer_sizes=(5, 2), learning_rate='constant',\n",
       "              learning_rate_init=0.005, max_fun=15000, max_iter=200,\n",
       "              momentum=0.9, n_iter_no_change=10, nesterovs_momentum=True,\n",
       "              power_t=0.5, random_state=42, shuffle=True, solver='sgd',\n",
       "              tol=0.0001, validation_fraction=0.1, verbose=False,\n",
       "              warm_start=False)"
      ]
     },
     "execution_count": 109,
     "metadata": {},
     "output_type": "execute_result"
    }
   ],
   "source": [
    "best_params = mlp_clf.cv_results_['params'][np.argmax(mlp_clf.cv_results_['mean_test_score'])]\n",
    "best_params['random_state'] = 42\n",
    "print(\"Best Params\", best_params)\n",
    "\n",
    "mlp_model = MLPClassifier(**best_params)\n",
    "mlp_model.fit(x_train.drop(\"STATE\", axis = 1),y_train)"
   ]
  },
  {
   "cell_type": "code",
   "execution_count": 110,
   "metadata": {},
   "outputs": [],
   "source": [
    "y_hat = mlp_model.predict_proba(x_test.drop(\"STATE\", axis = 1))[:, 1]"
   ]
  },
  {
   "cell_type": "code",
   "execution_count": 111,
   "metadata": {},
   "outputs": [
    {
     "data": {
      "text/plain": [
       "array([[15302,  5921],\n",
       "       [ 3598,  5179]])"
      ]
     },
     "execution_count": 111,
     "metadata": {},
     "output_type": "execute_result"
    }
   ],
   "source": [
    "sklearn.metrics.confusion_matrix(y_test,predictions)"
   ]
  },
  {
   "cell_type": "code",
   "execution_count": 112,
   "metadata": {},
   "outputs": [
    {
     "data": {
      "text/plain": [
       "0.6555375836097085"
      ]
     },
     "execution_count": 112,
     "metadata": {},
     "output_type": "execute_result"
    }
   ],
   "source": [
    "balanced_accuracy_score(y_test,predictions)"
   ]
  },
  {
   "cell_type": "code",
   "execution_count": 113,
   "metadata": {},
   "outputs": [
    {
     "data": {
      "text/plain": [
       "0.6827"
      ]
     },
     "execution_count": 113,
     "metadata": {},
     "output_type": "execute_result"
    }
   ],
   "source": [
    "accuracy_score(y_test,predictions)"
   ]
  },
  {
   "cell_type": "code",
   "execution_count": 114,
   "metadata": {},
   "outputs": [
    {
     "data": {
      "text/plain": [
       "0.5211047944860895"
      ]
     },
     "execution_count": 114,
     "metadata": {},
     "output_type": "execute_result"
    }
   ],
   "source": [
    "f1_score(y_test,predictions)"
   ]
  },
  {
   "cell_type": "code",
   "execution_count": 115,
   "metadata": {},
   "outputs": [
    {
     "data": {
      "text/plain": [
       "0.4665765765765766"
      ]
     },
     "execution_count": 115,
     "metadata": {},
     "output_type": "execute_result"
    }
   ],
   "source": [
    "precision_score(y_test,predictions)"
   ]
  },
  {
   "cell_type": "code",
   "execution_count": 116,
   "metadata": {},
   "outputs": [
    {
     "data": {
      "text/plain": [
       "0.5900649424632562"
      ]
     },
     "execution_count": 116,
     "metadata": {},
     "output_type": "execute_result"
    }
   ],
   "source": [
    "recall_score(y_test,predictions)"
   ]
  },
  {
   "cell_type": "code",
   "execution_count": 117,
   "metadata": {},
   "outputs": [],
   "source": [
    "precision, recall, thresholds_pr = sklearn.metrics.precision_recall_curve(y_true = y_test,probas_pred = y_hat)\n",
    "auc_prc = sklearn.metrics.auc(recall, precision)\n",
    "fpr, tpr, _ = sklearn.metrics.roc_curve(y_test,y_hat)\n",
    "auc_roc = sklearn.metrics.auc(fpr, tpr)"
   ]
  },
  {
   "cell_type": "code",
   "execution_count": 118,
   "metadata": {},
   "outputs": [
    {
     "name": "stdout",
     "output_type": "stream",
     "text": [
      "AUROC:0.728\n",
      "AUPRC:0.586\n"
     ]
    }
   ],
   "source": [
    "print(\"AUROC:{:.3f}\".format(auc_roc))\n",
    "print(\"AUPRC:{:.3f}\".format(auc_prc))"
   ]
  },
  {
   "cell_type": "code",
   "execution_count": 119,
   "metadata": {
    "scrolled": true
   },
   "outputs": [
    {
     "data": {
      "image/png": "[encoded data removed]",
      "text/plain": [
       "<Figure size 864x432 with 2 Axes>"
      ]
     },
     "metadata": {
      "needs_background": "light"
     },
     "output_type": "display_data"
    }
   ],
   "source": [
    "from sklearn.metrics import average_precision_score, roc_curve, auc\n",
    "\n",
    "avg_pre = average_precision_score(y_test, y_hat)\n",
    "fig, (ax1, ax2) = plt.subplots(1,2,figsize = (12,6))\n",
    "ax1.plot( recall, precision, label = \" average precision = {:0.2f}\".format(avg_pre), lw = 3, alpha = 0.7)\n",
    "ax1.set_ylabel('Precision', fontsize = 14)\n",
    "ax1.set_xlabel('Recall', fontsize = 14)\n",
    "ax1.set_title('Precision-Recall Curve', fontsize = 18)\n",
    "ax1.legend(loc = 'best')\n",
    "\n",
    "#find default threshold\n",
    "close_default = np.argmin(np.abs(thresholds_pr - 0.5))\n",
    "ax1.plot ( recall[close_default], precision[close_default], 'o', markersize = 8)\n",
    "\n",
    "fpr, tpr, thresholds_roc = roc_curve(y_test, y_hat)\n",
    "roc_auc = auc(fpr,tpr)\n",
    "ax2.plot(fpr,tpr, label = \" area = {:0.2f}\".format(roc_auc), lw = 3, alpha = 0.7)\n",
    "ax2.plot([0,1], [0,1], 'r', linestyle = \"--\", lw = 2)\n",
    "ax2.set_xlabel(\"False Positive Rate\", fontsize = 14)\n",
    "ax2.set_ylabel(\"True Positive Rate\", fontsize = 14)\n",
    "ax2.set_title(\"ROC Curve\", fontsize = 18)\n",
    "\n",
    "ax2.legend(loc = 'best')\n",
    "\n",
    "#find default threshold\n",
    "close_default = np.argmin(np.abs(thresholds_roc - 0.5))\n",
    "ax2.plot(fpr[close_default], tpr[close_default], 'o', markersize = 8)\n",
    "plt.tight_layout() "
   ]
  },
  {
   "cell_type": "markdown",
   "metadata": {},
   "source": [
    "# Gradient Boosting"
   ]
  },
  {
   "cell_type": "code",
   "execution_count": 178,
   "metadata": {},
   "outputs": [],
   "source": [
    "xgb = XGBClassifier(random_state = 42,subsample = .9)\n",
    "params = {'clf__gamma': [i/10.0 for i in range(4)],\n",
    "         'max_depth': range (2, 10, 1),\n",
    "         'n_estimators': range(60, 220, 80),\n",
    "         'eta': [.001,.005,.01,.015],\n",
    "         'min_child_weight': [.1,1,100],\n",
    "         'eval_metric': ['auc'],\n",
    "         'scale_pos_weight': [1,np.sum(y_train == 0)/np.sum(y_train == 1)],\n",
    "         'seed': [42]}"
   ]
  },
  {
   "cell_type": "code",
   "execution_count": 179,
   "metadata": {},
   "outputs": [],
   "source": [
    "xgb_clf = GridSearchCV(xgb, \n",
    "                    params,\n",
    "                    scoring = 'roc_auc', \n",
    "                    cv = 5,\n",
    "                    refit = False,\n",
    "                    verbose = 0,\n",
    "                    return_train_score = True)"
   ]
  },
  {
   "cell_type": "code",
   "execution_count": 180,
   "metadata": {
    "scrolled": true
   },
   "outputs": [
    {
     "data": {
      "text/plain": [
       "GridSearchCV(cv=5, error_score=nan,\n",
       "             estimator=XGBClassifier(base_score=None, booster=None,\n",
       "                                     colsample_bylevel=None,\n",
       "                                     colsample_bynode=None,\n",
       "                                     colsample_bytree=None, gamma=None,\n",
       "                                     gpu_id=None, importance_type='gain',\n",
       "                                     interaction_constraints=None,\n",
       "                                     learning_rate=None, max_delta_step=None,\n",
       "                                     max_depth=None, min_child_weight=None,\n",
       "                                     missing=nan, monotone_constraints=None,\n",
       "                                     n_estim...\n",
       "                                     subsample=0.9, tree_method=None,\n",
       "                                     validate_parameters=False,\n",
       "                                     verbosity=None),\n",
       "             iid='deprecated', n_jobs=None,\n",
       "             param_grid={'clf__gamma': [0.0, 0.1, 0.2, 0.3], 'eta': [0.3],\n",
       "                         'eval_metric': ['auc'], 'min_child_weight': [100],\n",
       "                         'n_estimators': range(60, 220, 80),\n",
       "                         'scale_pos_weight': [1, 2.4182191078448128],\n",
       "                         'seed': [42]},\n",
       "             pre_dispatch='2*n_jobs', refit=False, return_train_score=True,\n",
       "             scoring='roc_auc', verbose=0)"
      ]
     },
     "execution_count": 180,
     "metadata": {},
     "output_type": "execute_result"
    }
   ],
   "source": [
    "xgb_clf.fit(x_train.drop(\"STATE\", axis = 1),y_train)"
   ]
  },
  {
   "cell_type": "code",
   "execution_count": 181,
   "metadata": {
    "scrolled": true
   },
   "outputs": [
    {
     "data": {
      "text/html": [
       "<div>\n",
       "<style scoped>\n",
       "    .dataframe tbody tr th:only-of-type {\n",
       "        vertical-align: middle;\n",
       "    }\n",
       "\n",
       "    .dataframe tbody tr th {\n",
       "        vertical-align: top;\n",
       "    }\n",
       "\n",
       "    .dataframe thead th {\n",
       "        text-align: right;\n",
       "    }\n",
       "</style>\n",
       "<table border=\"1\" class=\"dataframe\">\n",
       "  <thead>\n",
       "    <tr style=\"text-align: right;\">\n",
       "      <th></th>\n",
       "      <th>mean_fit_time</th>\n",
       "      <th>std_fit_time</th>\n",
       "      <th>mean_score_time</th>\n",
       "      <th>std_score_time</th>\n",
       "      <th>param_clf__gamma</th>\n",
       "      <th>param_eta</th>\n",
       "      <th>param_eval_metric</th>\n",
       "      <th>param_min_child_weight</th>\n",
       "      <th>param_n_estimators</th>\n",
       "      <th>param_scale_pos_weight</th>\n",
       "      <th>param_seed</th>\n",
       "      <th>params</th>\n",
       "      <th>split0_test_score</th>\n",
       "      <th>split1_test_score</th>\n",
       "      <th>split2_test_score</th>\n",
       "      <th>split3_test_score</th>\n",
       "      <th>split4_test_score</th>\n",
       "      <th>mean_test_score</th>\n",
       "      <th>std_test_score</th>\n",
       "      <th>rank_test_score</th>\n",
       "      <th>split0_train_score</th>\n",
       "      <th>split1_train_score</th>\n",
       "      <th>split2_train_score</th>\n",
       "      <th>split3_train_score</th>\n",
       "      <th>split4_train_score</th>\n",
       "      <th>mean_train_score</th>\n",
       "      <th>std_train_score</th>\n",
       "    </tr>\n",
       "  </thead>\n",
       "  <tbody>\n",
       "    <tr>\n",
       "      <th>0</th>\n",
       "      <td>1.568368</td>\n",
       "      <td>0.127871</td>\n",
       "      <td>0.048842</td>\n",
       "      <td>0.001267</td>\n",
       "      <td>0</td>\n",
       "      <td>0.3</td>\n",
       "      <td>auc</td>\n",
       "      <td>100</td>\n",
       "      <td>60</td>\n",
       "      <td>1</td>\n",
       "      <td>42</td>\n",
       "      <td>{'clf__gamma': 0.0, 'eta': 0.3, 'eval_metric':...</td>\n",
       "      <td>0.773516</td>\n",
       "      <td>0.775012</td>\n",
       "      <td>0.774226</td>\n",
       "      <td>0.784115</td>\n",
       "      <td>0.780048</td>\n",
       "      <td>0.777383</td>\n",
       "      <td>0.004073</td>\n",
       "      <td>13</td>\n",
       "      <td>0.808339</td>\n",
       "      <td>0.806576</td>\n",
       "      <td>0.808988</td>\n",
       "      <td>0.806373</td>\n",
       "      <td>0.808558</td>\n",
       "      <td>0.807767</td>\n",
       "      <td>0.001077</td>\n",
       "    </tr>\n",
       "    <tr>\n",
       "      <th>1</th>\n",
       "      <td>1.508310</td>\n",
       "      <td>0.018271</td>\n",
       "      <td>0.048093</td>\n",
       "      <td>0.000513</td>\n",
       "      <td>0</td>\n",
       "      <td>0.3</td>\n",
       "      <td>auc</td>\n",
       "      <td>100</td>\n",
       "      <td>60</td>\n",
       "      <td>2.41822</td>\n",
       "      <td>42</td>\n",
       "      <td>{'clf__gamma': 0.0, 'eta': 0.3, 'eval_metric':...</td>\n",
       "      <td>0.781218</td>\n",
       "      <td>0.779626</td>\n",
       "      <td>0.775567</td>\n",
       "      <td>0.788748</td>\n",
       "      <td>0.781828</td>\n",
       "      <td>0.781397</td>\n",
       "      <td>0.004275</td>\n",
       "      <td>9</td>\n",
       "      <td>0.820450</td>\n",
       "      <td>0.818008</td>\n",
       "      <td>0.817851</td>\n",
       "      <td>0.818228</td>\n",
       "      <td>0.815731</td>\n",
       "      <td>0.818054</td>\n",
       "      <td>0.001498</td>\n",
       "    </tr>\n",
       "    <tr>\n",
       "      <th>2</th>\n",
       "      <td>3.013225</td>\n",
       "      <td>0.013191</td>\n",
       "      <td>0.051329</td>\n",
       "      <td>0.000419</td>\n",
       "      <td>0</td>\n",
       "      <td>0.3</td>\n",
       "      <td>auc</td>\n",
       "      <td>100</td>\n",
       "      <td>140</td>\n",
       "      <td>1</td>\n",
       "      <td>42</td>\n",
       "      <td>{'clf__gamma': 0.0, 'eta': 0.3, 'eval_metric':...</td>\n",
       "      <td>0.784549</td>\n",
       "      <td>0.787454</td>\n",
       "      <td>0.787407</td>\n",
       "      <td>0.794026</td>\n",
       "      <td>0.789978</td>\n",
       "      <td>0.788683</td>\n",
       "      <td>0.003177</td>\n",
       "      <td>5</td>\n",
       "      <td>0.841171</td>\n",
       "      <td>0.841019</td>\n",
       "      <td>0.841504</td>\n",
       "      <td>0.837600</td>\n",
       "      <td>0.839948</td>\n",
       "      <td>0.840248</td>\n",
       "      <td>0.001423</td>\n",
       "    </tr>\n",
       "    <tr>\n",
       "      <th>3</th>\n",
       "      <td>3.109614</td>\n",
       "      <td>0.054528</td>\n",
       "      <td>0.051332</td>\n",
       "      <td>0.000539</td>\n",
       "      <td>0</td>\n",
       "      <td>0.3</td>\n",
       "      <td>auc</td>\n",
       "      <td>100</td>\n",
       "      <td>140</td>\n",
       "      <td>2.41822</td>\n",
       "      <td>42</td>\n",
       "      <td>{'clf__gamma': 0.0, 'eta': 0.3, 'eval_metric':...</td>\n",
       "      <td>0.794632</td>\n",
       "      <td>0.794233</td>\n",
       "      <td>0.790659</td>\n",
       "      <td>0.802148</td>\n",
       "      <td>0.794258</td>\n",
       "      <td>0.795186</td>\n",
       "      <td>0.003770</td>\n",
       "      <td>1</td>\n",
       "      <td>0.857225</td>\n",
       "      <td>0.856953</td>\n",
       "      <td>0.855553</td>\n",
       "      <td>0.858326</td>\n",
       "      <td>0.859895</td>\n",
       "      <td>0.857590</td>\n",
       "      <td>0.001452</td>\n",
       "    </tr>\n",
       "    <tr>\n",
       "      <th>4</th>\n",
       "      <td>1.486974</td>\n",
       "      <td>0.008781</td>\n",
       "      <td>0.048184</td>\n",
       "      <td>0.000513</td>\n",
       "      <td>0.1</td>\n",
       "      <td>0.3</td>\n",
       "      <td>auc</td>\n",
       "      <td>100</td>\n",
       "      <td>60</td>\n",
       "      <td>1</td>\n",
       "      <td>42</td>\n",
       "      <td>{'clf__gamma': 0.1, 'eta': 0.3, 'eval_metric':...</td>\n",
       "      <td>0.773516</td>\n",
       "      <td>0.775012</td>\n",
       "      <td>0.774226</td>\n",
       "      <td>0.784115</td>\n",
       "      <td>0.780048</td>\n",
       "      <td>0.777383</td>\n",
       "      <td>0.004073</td>\n",
       "      <td>13</td>\n",
       "      <td>0.808339</td>\n",
       "      <td>0.806576</td>\n",
       "      <td>0.808988</td>\n",
       "      <td>0.806373</td>\n",
       "      <td>0.808558</td>\n",
       "      <td>0.807767</td>\n",
       "      <td>0.001077</td>\n",
       "    </tr>\n",
       "  </tbody>\n",
       "</table>\n",
       "</div>"
      ],
      "text/plain": [
       "   mean_fit_time  std_fit_time  mean_score_time  std_score_time  \\\n",
       "0       1.568368      0.127871         0.048842        0.001267   \n",
       "1       1.508310      0.018271         0.048093        0.000513   \n",
       "2       3.013225      0.013191         0.051329        0.000419   \n",
       "3       3.109614      0.054528         0.051332        0.000539   \n",
       "4       1.486974      0.008781         0.048184        0.000513   \n",
       "\n",
       "  param_clf__gamma param_eta param_eval_metric param_min_child_weight  \\\n",
       "0                0       0.3               auc                    100   \n",
       "1                0       0.3               auc                    100   \n",
       "2                0       0.3               auc                    100   \n",
       "3                0       0.3               auc                    100   \n",
       "4              0.1       0.3               auc                    100   \n",
       "\n",
       "  param_n_estimators param_scale_pos_weight param_seed  \\\n",
       "0                 60                      1         42   \n",
       "1                 60                2.41822         42   \n",
       "2                140                      1         42   \n",
       "3                140                2.41822         42   \n",
       "4                 60                      1         42   \n",
       "\n",
       "                                              params  split0_test_score  \\\n",
       "0  {'clf__gamma': 0.0, 'eta': 0.3, 'eval_metric':...           0.773516   \n",
       "1  {'clf__gamma': 0.0, 'eta': 0.3, 'eval_metric':...           0.781218   \n",
       "2  {'clf__gamma': 0.0, 'eta': 0.3, 'eval_metric':...           0.784549   \n",
       "3  {'clf__gamma': 0.0, 'eta': 0.3, 'eval_metric':...           0.794632   \n",
       "4  {'clf__gamma': 0.1, 'eta': 0.3, 'eval_metric':...           0.773516   \n",
       "\n",
       "   split1_test_score  split2_test_score  split3_test_score  split4_test_score  \\\n",
       "0           0.775012           0.774226           0.784115           0.780048   \n",
       "1           0.779626           0.775567           0.788748           0.781828   \n",
       "2           0.787454           0.787407           0.794026           0.789978   \n",
       "3           0.794233           0.790659           0.802148           0.794258   \n",
       "4           0.775012           0.774226           0.784115           0.780048   \n",
       "\n",
       "   mean_test_score  std_test_score  rank_test_score  split0_train_score  \\\n",
       "0         0.777383        0.004073               13            0.808339   \n",
       "1         0.781397        0.004275                9            0.820450   \n",
       "2         0.788683        0.003177                5            0.841171   \n",
       "3         0.795186        0.003770                1            0.857225   \n",
       "4         0.777383        0.004073               13            0.808339   \n",
       "\n",
       "   split1_train_score  split2_train_score  split3_train_score  \\\n",
       "0            0.806576            0.808988            0.806373   \n",
       "1            0.818008            0.817851            0.818228   \n",
       "2            0.841019            0.841504            0.837600   \n",
       "3            0.856953            0.855553            0.858326   \n",
       "4            0.806576            0.808988            0.806373   \n",
       "\n",
       "   split4_train_score  mean_train_score  std_train_score  \n",
       "0            0.808558          0.807767         0.001077  \n",
       "1            0.815731          0.818054         0.001498  \n",
       "2            0.839948          0.840248         0.001423  \n",
       "3            0.859895          0.857590         0.001452  \n",
       "4            0.808558          0.807767         0.001077  "
      ]
     },
     "execution_count": 181,
     "metadata": {},
     "output_type": "execute_result"
    }
   ],
   "source": [
    "pd.DataFrame.from_dict(xgb_clf.cv_results_).head()"
   ]
  },
  {
   "cell_type": "code",
   "execution_count": 182,
   "metadata": {
    "scrolled": true
   },
   "outputs": [
    {
     "data": {
      "text/plain": [
       "0.7951858383730206"
      ]
     },
     "execution_count": 182,
     "metadata": {},
     "output_type": "execute_result"
    }
   ],
   "source": [
    "xgb_clf.best_score_"
   ]
  },
  {
   "cell_type": "code",
   "execution_count": 183,
   "metadata": {},
   "outputs": [
    {
     "name": "stdout",
     "output_type": "stream",
     "text": [
      "Best Params {'clf__gamma': 0.0, 'eta': 0.3, 'eval_metric': 'auc', 'min_child_weight': 100, 'n_estimators': 140, 'scale_pos_weight': 2.4182191078448128, 'seed': 42, 'random_state': 42}\n"
     ]
    },
    {
     "data": {
      "text/plain": [
       "XGBClassifier(base_score=0.5, booster=None, clf__gamma=0.0, colsample_bylevel=1,\n",
       "              colsample_bynode=1, colsample_bytree=1, eta=0.3,\n",
       "              eval_metric='auc', gamma=0, gpu_id=-1, importance_type='gain',\n",
       "              interaction_constraints=None, learning_rate=0.300000012,\n",
       "              max_delta_step=0, max_depth=6, min_child_weight=100, missing=nan,\n",
       "              monotone_constraints=None, n_estimators=140, n_jobs=0,\n",
       "              num_parallel_tree=1, objective='binary:logistic', random_state=42,\n",
       "              reg_alpha=0, reg_lambda=1, scale_pos_weight=2.4182191078448128,\n",
       "              seed=42, subsample=1, tree_method=None, validate_parameters=False, ...)"
      ]
     },
     "execution_count": 183,
     "metadata": {},
     "output_type": "execute_result"
    }
   ],
   "source": [
    "best_params = xgb_clf.cv_results_['params'][np.argmax(xgb_clf.cv_results_['mean_test_score'])]\n",
    "best_params['random_state'] = 42\n",
    "print(\"Best Params\", best_params)\n",
    "\n",
    "xgb_model = XGBClassifier(**best_params)\n",
    "xgb_model.fit(x_train.drop(\"STATE\", axis = 1),y_train)"
   ]
  },
  {
   "cell_type": "code",
   "execution_count": 184,
   "metadata": {},
   "outputs": [
    {
     "data": {
      "text/plain": [
       "<bound method XGBModel.get_params of XGBClassifier(base_score=0.5, booster=None, clf__gamma=0.0, colsample_bylevel=1,\n",
       "              colsample_bynode=1, colsample_bytree=1, eta=0.3,\n",
       "              eval_metric='auc', gamma=0, gpu_id=-1, importance_type='gain',\n",
       "              interaction_constraints=None, learning_rate=0.300000012,\n",
       "              max_delta_step=0, max_depth=6, min_child_weight=100, missing=nan,\n",
       "              monotone_constraints=None, n_estimators=140, n_jobs=0,\n",
       "              num_parallel_tree=1, objective='binary:logistic', random_state=42,\n",
       "              reg_alpha=0, reg_lambda=1, scale_pos_weight=2.4182191078448128,\n",
       "              seed=42, subsample=1, tree_method=None, validate_parameters=False, ...)>"
      ]
     },
     "execution_count": 184,
     "metadata": {},
     "output_type": "execute_result"
    }
   ],
   "source": [
    "xgb_model.get_params"
   ]
  },
  {
   "cell_type": "code",
   "execution_count": 185,
   "metadata": {},
   "outputs": [],
   "source": [
    "y_hat = xgb_model.predict_proba(x_test.drop(\"STATE\", axis = 1))[:, 1]"
   ]
  },
  {
   "cell_type": "code",
   "execution_count": 186,
   "metadata": {},
   "outputs": [],
   "source": [
    "precision, recall, thresholds_pr = sklearn.metrics.precision_recall_curve(y_test, y_hat)\n",
    "auc_prc = sklearn.metrics.auc(recall, precision)\n",
    "fpr, tpr, _ = sklearn.metrics.roc_curve(y_test, y_hat)\n",
    "auc_roc = sklearn.metrics.auc(fpr, tpr)"
   ]
  },
  {
   "cell_type": "code",
   "execution_count": 187,
   "metadata": {},
   "outputs": [
    {
     "data": {
      "text/plain": [
       "0.5680667262436699"
      ]
     },
     "execution_count": 187,
     "metadata": {},
     "output_type": "execute_result"
    }
   ],
   "source": [
    "precision_score(y_test, y_hat > .5)"
   ]
  },
  {
   "cell_type": "code",
   "execution_count": 188,
   "metadata": {},
   "outputs": [
    {
     "data": {
      "text/plain": [
       "0.7531333333333333"
      ]
     },
     "execution_count": 188,
     "metadata": {},
     "output_type": "execute_result"
    }
   ],
   "source": [
    "accuracy_score(y_test, y_hat > .5)"
   ]
  },
  {
   "cell_type": "code",
   "execution_count": 189,
   "metadata": {},
   "outputs": [
    {
     "data": {
      "text/plain": [
       "0.7234254697472416"
      ]
     },
     "execution_count": 189,
     "metadata": {},
     "output_type": "execute_result"
    }
   ],
   "source": [
    "balanced_accuracy_score(y_test, y_hat > .5)"
   ]
  },
  {
   "cell_type": "code",
   "execution_count": 190,
   "metadata": {},
   "outputs": [
    {
     "data": {
      "text/plain": [
       "0.651817249629714"
      ]
     },
     "execution_count": 190,
     "metadata": {},
     "output_type": "execute_result"
    }
   ],
   "source": [
    "recall_score(y_test, y_hat > .5)"
   ]
  },
  {
   "cell_type": "code",
   "execution_count": 191,
   "metadata": {},
   "outputs": [
    {
     "data": {
      "text/plain": [
       "0.6070670628183361"
      ]
     },
     "execution_count": 191,
     "metadata": {},
     "output_type": "execute_result"
    }
   ],
   "source": [
    "f1_score(y_test, y_hat > .5)"
   ]
  },
  {
   "cell_type": "code",
   "execution_count": 192,
   "metadata": {},
   "outputs": [
    {
     "name": "stdout",
     "output_type": "stream",
     "text": [
      "AUROC:0.804\n",
      "AUPRC:0.680\n"
     ]
    }
   ],
   "source": [
    "print(\"AUROC:{:.3f}\".format(auc_roc))\n",
    "print(\"AUPRC:{:.3f}\".format(auc_prc))"
   ]
  },
  {
   "cell_type": "code",
   "execution_count": 193,
   "metadata": {},
   "outputs": [
    {
     "data": {
      "image/png": "[encoded data removed]",
      "text/plain": [
       "<Figure size 864x432 with 2 Axes>"
      ]
     },
     "metadata": {
      "needs_background": "light"
     },
     "output_type": "display_data"
    }
   ],
   "source": [
    "from sklearn.metrics import average_precision_score, roc_curve, auc\n",
    "\n",
    "avg_pre = average_precision_score(y_test, y_hat)\n",
    "fig, (ax1, ax2) = plt.subplots(1,2,figsize = (12,6))\n",
    "ax1.plot(recall,precision,  label = \" average precision = {:0.2f}\".format(avg_pre), lw = 3, alpha = 0.7)\n",
    "ax1.set_ylabel('Precision', fontsize = 14)\n",
    "ax1.set_xlabel('Recall', fontsize = 14)\n",
    "ax1.set_title('Precision-Recall Curve', fontsize = 18)\n",
    "ax1.legend(loc = 'best')\n",
    "\n",
    "#find default threshold\n",
    "close_default = np.argmin(np.abs(thresholds_pr - 0.5))\n",
    "ax1.plot (recall[close_default], precision[close_default], 'o', markersize = 8)\n",
    "\n",
    "fpr, tpr, thresholds_roc = roc_curve(y_test, y_hat)\n",
    "roc_auc = auc(fpr,tpr)\n",
    "ax2.plot(fpr,tpr, label = \" area = {:0.2f}\".format(roc_auc), lw = 3, alpha = 0.7)\n",
    "ax2.plot([0,1], [0,1], 'r', linestyle = \"--\", lw = 2)\n",
    "ax2.set_xlabel(\"False Positive Rate\", fontsize = 14)\n",
    "ax2.set_ylabel(\"True Positive Rate\", fontsize = 14)\n",
    "ax2.set_title(\"ROC Curve\", fontsize = 18)\n",
    "\n",
    "ax2.legend(loc = 'best')\n",
    "\n",
    "#find default threshold\n",
    "close_default = np.argmin(np.abs(thresholds_roc - 0.5))\n",
    "ax2.plot(fpr[close_default], tpr[close_default], 'o', markersize = 8)\n",
    "plt.tight_layout() "
   ]
  },
  {
   "cell_type": "code",
   "execution_count": 194,
   "metadata": {
    "scrolled": true
   },
   "outputs": [
    {
     "data": {
      "text/plain": [
       "0.6798369838885465"
      ]
     },
     "execution_count": 194,
     "metadata": {},
     "output_type": "execute_result"
    }
   ],
   "source": [
    "avg_pre"
   ]
  },
  {
   "cell_type": "code",
   "execution_count": 195,
   "metadata": {},
   "outputs": [],
   "source": [
    "predictions = xgb_model.predict(x_test.drop(\"STATE\", axis = 1))"
   ]
  },
  {
   "cell_type": "code",
   "execution_count": 196,
   "metadata": {},
   "outputs": [
    {
     "data": {
      "text/plain": [
       "array([[16873,  4350],\n",
       "       [ 3056,  5721]])"
      ]
     },
     "execution_count": 196,
     "metadata": {},
     "output_type": "execute_result"
    }
   ],
   "source": [
    "sklearn.metrics.confusion_matrix(y_test,predictions)"
   ]
  },
  {
   "cell_type": "code",
   "execution_count": 198,
   "metadata": {},
   "outputs": [],
   "source": [
    "from sklearn.calibration import calibration_curve\n",
    "fraction_of_positives, mean_predicted_value = calibration_curve(y_test, y_hat, n_bins=10)\n"
   ]
  },
  {
   "cell_type": "code",
   "execution_count": 199,
   "metadata": {},
   "outputs": [
    {
     "data": {
      "image/png": "[encoded data removed]",
      "text/plain": [
       "<Figure size 864x432 with 1 Axes>"
      ]
     },
     "metadata": {
      "needs_background": "light"
     },
     "output_type": "display_data"
    }
   ],
   "source": [
    "fig, ax = plt.subplots(1, figsize=(12, 6))\n",
    "plt.plot(mean_predicted_value, fraction_of_positives, 's-')\n",
    "plt.plot([0, 1], [0, 1], '--', color='gray')\n",
    "\n",
    "sns.despine(left=True, bottom=True)\n",
    "plt.gca().xaxis.set_ticks_position('none')\n",
    "plt.gca().yaxis.set_ticks_position('none')\n",
    "plt.title(\"$XGBoost$ Calibration Curve\", fontsize=20); pass\n"
   ]
  },
  {
   "cell_type": "code",
   "execution_count": 200,
   "metadata": {},
   "outputs": [
    {
     "data": {
      "image/png": "[encoded data removed]",
      "text/plain": [
       "<Figure size 432x288 with 1 Axes>"
      ]
     },
     "metadata": {
      "needs_background": "light"
     },
     "output_type": "display_data"
    }
   ],
   "source": [
    "plt.bar(range(len(xgb_model.feature_importances_)), xgb_model.feature_importances_)\n",
    "plt.show()"
   ]
  },
  {
   "cell_type": "code",
   "execution_count": 201,
   "metadata": {},
   "outputs": [],
   "source": [
    "labels = x_test.drop(\"STATE\", axis = 1).columns[np.where(xgb_model.feature_importances_)]\n",
    "values = xgb_model.feature_importances_[np.where(xgb_model.feature_importances_)]\n",
    "                              "
   ]
  },
  {
   "cell_type": "code",
   "execution_count": 202,
   "metadata": {},
   "outputs": [],
   "source": [
    "variable_importance = sorted(list(zip(labels,values)), key = lambda x: -np.abs(x[1]))"
   ]
  },
  {
   "cell_type": "code",
   "execution_count": null,
   "metadata": {},
   "outputs": [],
   "source": [
    "variable_importance"
   ]
  },
  {
   "cell_type": "code",
   "execution_count": 203,
   "metadata": {},
   "outputs": [
    {
     "data": {
      "text/plain": [
       "[('INITIAL_RX_QUANTITY', 0.10518278),\n",
       " ('init_diag_M54', 0.040728323),\n",
       " ('InstitutionalEmergency', 0.036218558),\n",
       " ('hypertension_uncomplicated', 0.03219321),\n",
       " ('InitIndipendantLab', 0.025462396),\n",
       " ('gabapentin_ndcs', 0.024436146),\n",
       " ('InstitutionalElective', 0.022715157),\n",
       " ('INITIAL_RX_LENGTH', 0.022100741),\n",
       " ('chronic_pulmonary_disease', 0.021401646),\n",
       " ('AGE', 0.020677337),\n",
       " ('Drug_Tramadol SA', 0.019833708),\n",
       " ('depression', 0.018351858),\n",
       " ('Drug_Oxycodone SA', 0.018211009),\n",
       " ('Master_Form_Tablet', 0.01662621),\n",
       " ('InstitutionalUrgent', 0.015856642),\n",
       " ('InitPhysician', 0.0126600545),\n",
       " ('emergency_room_claim', 0.012494787),\n",
       " ('INITIAL_RX_AMOUNT_PAID', 0.012045583),\n",
       " ('hasInstitutional', 0.011991951),\n",
       " ('InitPharmacy', 0.011934729),\n",
       " ('PRE_NUM_POLYPHARMACY', 0.011464108),\n",
       " ('Unemployment_rate_2018', 0.010953642),\n",
       " ('init_diag_M25', 0.010866383),\n",
       " ('ibuprofen_ndcs', 0.010606785),\n",
       " ('INITIAL_RX_AMOUNT_BILLED', 0.010298524),\n",
       " ('InitOutpatient', 0.010101149),\n",
       " ('inpatient_claim', 0.010082822),\n",
       " ('pregabalin_ndcs', 0.009761865),\n",
       " ('TOTAL_RXS', 0.009731565),\n",
       " ('rheumatoid_arhritis', 0.00955818),\n",
       " ('ELIGIBILITY_TIME', 0.009549114),\n",
       " ('ambulatory_surgery_claim', 0.009242701),\n",
       " ('hypothyroidism', 0.008437303),\n",
       " ('init_diag_G89', 0.008287792),\n",
       " ('outpatient_claim', 0.008231812),\n",
       " ('MED', 0.008048017),\n",
       " ('Median_Household_Income_2018', 0.007925962),\n",
       " ('Drug_Codeine', 0.0076419115),\n",
       " ('diabetes_uncomplicated', 0.0075780833),\n",
       " ('home_claim', 0.0075542037),\n",
       " ('diclofenac_ndcs_y', 0.0074892235),\n",
       " ('alcohol_abuse', 0.0074298587),\n",
       " ('paroxetine_ndcs', 0.007429443),\n",
       " ('Urban_influence_code_2013', 0.0073451004),\n",
       " ('TOTAL_PRE_CLAIMS', 0.0073134364),\n",
       " ('init_diag_M79', 0.007258511),\n",
       " ('InitHomeHealth', 0.0072157243),\n",
       " ('InitDental', 0.007105951),\n",
       " ('LongShortActing_LA', 0.0070632575),\n",
       " ('PRE_RX_PAID_AVG', 0.006853037),\n",
       " ('Rural_urban_continuum_code_2013', 0.006623466),\n",
       " ('renal_failure', 0.0064332513),\n",
       " ('GENDER_M', 0.0063601937),\n",
       " ('PRE_RX_BILLED_AVG', 0.0063276477),\n",
       " ('PRE_RX_DAYS_SUM', 0.006325933),\n",
       " ('init_diag_Z79', 0.0062956642),\n",
       " ('deficiency_anemia', 0.006283931),\n",
       " ('Percent_some_college_1418', 0.006166498),\n",
       " ('paralysis', 0.00612852),\n",
       " ('Hispanic', 0.006077278),\n",
       " ('diabetes_complicated', 0.005994509),\n",
       " ('obesity', 0.005962366),\n",
       " ('PRE_RX_DAYS_AVD', 0.0058666277),\n",
       " ('init_diag_R07', 0.0058211074),\n",
       " ('PCTPOVALL_2018', 0.005801289),\n",
       " ('PRE_RX_QTY_SUM', 0.0056619584),\n",
       " ('Drug_Hydrocodone SA', 0.005613199),\n",
       " ('Percent_less_than_high_school_1418', 0.0054324917),\n",
       " ('psychoses', 0.005397571),\n",
       " ('PRE_RX_QTY_AVG', 0.0053701056),\n",
       " ('Percent_bachelors_or_higher_1418', 0.0051723053),\n",
       " ('PRE_RX_BILLED_SUM', 0.0050438284),\n",
       " ('PRE_RX_PAID_SUM', 0.00489966),\n",
       " ('mental_health_claim', 0.004839508),\n",
       " ('valvular_disease', 0.0047703586),\n",
       " ('Percent_only_high_school_1418', 0.004652471),\n",
       " ('init_diag_I10', 0.0046225023),\n",
       " ('Med_HH_Income_Percent_of_State_Total_2018', 0.004611736),\n",
       " ('amitriptalin_ndcs', 0.004423191),\n",
       " ('other_neurological_disorder', 0.004364915),\n",
       " ('doxipen_ndcs', 0.004215914),\n",
       " ('venlafaxin_ndcs', 0.0040236986),\n",
       " ('naproxen_ndcs', 0.0039661494),\n",
       " ('cardiac_arrhythmia', 0.0039070216),\n",
       " ('init_diag_F17', 0.0038191674),\n",
       " ('fluid_and_electrolyte_disorders', 0.00379895),\n",
       " ('coagulopathy', 0.0037071563),\n",
       " ('init_diag_R10', 0.0036839235),\n",
       " ('ambulance_claim', 0.003653065),\n",
       " ('lidocaine_ndcs', 0.0036449463),\n",
       " ('fluoxetine_ndcs', 0.0035991594),\n",
       " ('urgent_care_claim', 0.00340274),\n",
       " ('bupropion_ndcs', 0.0033347944),\n",
       " ('congestive_heart_failure', 0.0032222604),\n",
       " ('hypertension_complicated', 0.0032072668),\n",
       " ('init_diag_E11', 0.0031717105),\n",
       " ('InitTransportAmb', 0.0029463496),\n",
       " ('liver_disease', 0.0027899828),\n",
       " ('nortryptaline_ndcs', 0.0025823053),\n",
       " ('peripheral vascular_disorder', 0.002392487),\n",
       " ('duloxetine_ndcs', 0.0023391596),\n",
       " ('init_diag_Z87', 0.0016994327)]"
      ]
     },
     "execution_count": 203,
     "metadata": {},
     "output_type": "execute_result"
    }
   ],
   "source": [
    "variable_importance"
   ]
  },
  {
   "cell_type": "code",
   "execution_count": 204,
   "metadata": {},
   "outputs": [],
   "source": [
    "labels = [variable[0] for variable in variable_importance[:20]]"
   ]
  },
  {
   "cell_type": "code",
   "execution_count": 205,
   "metadata": {},
   "outputs": [
    {
     "data": {
      "text/plain": [
       "['INITIAL_RX_QUANTITY',\n",
       " 'init_diag_M54',\n",
       " 'InstitutionalEmergency',\n",
       " 'hypertension_uncomplicated',\n",
       " 'InitIndipendantLab',\n",
       " 'gabapentin_ndcs',\n",
       " 'InstitutionalElective',\n",
       " 'INITIAL_RX_LENGTH',\n",
       " 'chronic_pulmonary_disease',\n",
       " 'AGE',\n",
       " 'Drug_Tramadol SA',\n",
       " 'depression',\n",
       " 'Drug_Oxycodone SA',\n",
       " 'Master_Form_Tablet',\n",
       " 'InstitutionalUrgent',\n",
       " 'InitPhysician',\n",
       " 'emergency_room_claim',\n",
       " 'INITIAL_RX_AMOUNT_PAID',\n",
       " 'hasInstitutional',\n",
       " 'InitPharmacy']"
      ]
     },
     "execution_count": 205,
     "metadata": {},
     "output_type": "execute_result"
    }
   ],
   "source": [
    "labels"
   ]
  },
  {
   "cell_type": "code",
   "execution_count": 206,
   "metadata": {},
   "outputs": [],
   "source": [
    "values = [variable[1] for variable in variable_importance[:20]]"
   ]
  },
  {
   "cell_type": "code",
   "execution_count": 207,
   "metadata": {},
   "outputs": [
    {
     "data": {
      "image/png": "[encoded data removed]",
      "text/plain": [
       "<Figure size 432x288 with 1 Axes>"
      ]
     },
     "metadata": {
      "needs_background": "light"
     },
     "output_type": "display_data"
    }
   ],
   "source": [
    "plt.barh(labels,values)\n",
    "plt.show()"
   ]
  },
  {
   "cell_type": "markdown",
   "metadata": {},
   "source": [
    "# XGBoost ROC by state"
   ]
  },
  {
   "cell_type": "code",
   "execution_count": 208,
   "metadata": {},
   "outputs": [],
   "source": [
    "y_hat = xgb_model.predict_proba(x_test.loc[x_test.STATE == 1].drop(\"STATE\", axis = 1))[:, 1]"
   ]
  },
  {
   "cell_type": "code",
   "execution_count": 209,
   "metadata": {},
   "outputs": [],
   "source": [
    "precision, recall, thresholds_pr = sklearn.metrics.precision_recall_curve(y_test.loc[x_test.STATE == 1], y_hat)\n",
    "auc_prc = sklearn.metrics.auc(recall, precision)\n",
    "fpr, tpr, _ = sklearn.metrics.roc_curve(y_test.loc[x_test.STATE == 1], y_hat)\n",
    "auc_roc = sklearn.metrics.auc(fpr, tpr)"
   ]
  },
  {
   "cell_type": "code",
   "execution_count": 210,
   "metadata": {},
   "outputs": [
    {
     "data": {
      "text/plain": [
       "0.7376362112321878"
      ]
     },
     "execution_count": 210,
     "metadata": {},
     "output_type": "execute_result"
    }
   ],
   "source": [
    "precision_score(y_test.loc[x_test.STATE == 1], y_hat > .5)"
   ]
  },
  {
   "cell_type": "code",
   "execution_count": 211,
   "metadata": {},
   "outputs": [
    {
     "data": {
      "text/plain": [
       "0.7709170013386881"
      ]
     },
     "execution_count": 211,
     "metadata": {},
     "output_type": "execute_result"
    }
   ],
   "source": [
    "accuracy_score(y_test.loc[x_test.STATE == 1], y_hat > .5)"
   ]
  },
  {
   "cell_type": "code",
   "execution_count": 212,
   "metadata": {},
   "outputs": [
    {
     "data": {
      "text/plain": [
       "0.7684051417823621"
      ]
     },
     "execution_count": 212,
     "metadata": {},
     "output_type": "execute_result"
    }
   ],
   "source": [
    "balanced_accuracy_score(y_test.loc[x_test.STATE == 1], y_hat > .5)"
   ]
  },
  {
   "cell_type": "code",
   "execution_count": 213,
   "metadata": {},
   "outputs": [
    {
     "data": {
      "text/plain": [
       "0.8599348534201955"
      ]
     },
     "execution_count": 213,
     "metadata": {},
     "output_type": "execute_result"
    }
   ],
   "source": [
    "recall_score(y_test.loc[x_test.STATE == 1], y_hat > .5)"
   ]
  },
  {
   "cell_type": "code",
   "execution_count": 214,
   "metadata": {},
   "outputs": [
    {
     "data": {
      "text/plain": [
       "0.7941043765979847"
      ]
     },
     "execution_count": 214,
     "metadata": {},
     "output_type": "execute_result"
    }
   ],
   "source": [
    "f1_score(y_test.loc[x_test.STATE == 1], y_hat > .5)"
   ]
  },
  {
   "cell_type": "code",
   "execution_count": 215,
   "metadata": {},
   "outputs": [
    {
     "name": "stdout",
     "output_type": "stream",
     "text": [
      "AUROC:0.864\n",
      "AUPRC:0.872\n"
     ]
    }
   ],
   "source": [
    "print(\"AUROC:{:.3f}\".format(auc_roc))\n",
    "print(\"AUPRC:{:.3f}\".format(auc_prc))"
   ]
  },
  {
   "cell_type": "code",
   "execution_count": 216,
   "metadata": {},
   "outputs": [
    {
     "data": {
      "image/png": "[encoded data removed]",
      "text/plain": [
       "<Figure size 864x432 with 2 Axes>"
      ]
     },
     "metadata": {
      "needs_background": "light"
     },
     "output_type": "display_data"
    }
   ],
   "source": [
    "from sklearn.metrics import average_precision_score, roc_curve, auc\n",
    "\n",
    "avg_pre = average_precision_score(y_test.loc[x_test.STATE == 1], y_hat)\n",
    "fig, (ax1, ax2) = plt.subplots(1,2,figsize = (12,6))\n",
    "ax1.plot(recall,precision,  label = \" average precision = {:0.2f}\".format(avg_pre), lw = 3, alpha = 0.7)\n",
    "ax1.set_ylabel('Precision', fontsize = 14)\n",
    "ax1.set_xlabel('Recall', fontsize = 14)\n",
    "ax1.set_title('Precision-Recall Curve', fontsize = 18)\n",
    "ax1.legend(loc = 'best')\n",
    "\n",
    "#find default threshold\n",
    "close_default = np.argmin(np.abs(thresholds_pr - 0.5))\n",
    "ax1.plot (recall[close_default], precision[close_default], 'o', markersize = 8)\n",
    "\n",
    "fpr, tpr, thresholds_roc = roc_curve(y_test.loc[x_test.STATE == 1], y_hat)\n",
    "roc_auc = auc(fpr,tpr)\n",
    "ax2.plot(fpr,tpr, label = \" area = {:0.2f}\".format(roc_auc), lw = 3, alpha = 0.7)\n",
    "ax2.plot([0,1], [0,1], 'r', linestyle = \"--\", lw = 2)\n",
    "ax2.set_xlabel(\"False Positive Rate\", fontsize = 14)\n",
    "ax2.set_ylabel(\"True Positive Rate\", fontsize = 14)\n",
    "ax2.set_title(\"ROC Curve\", fontsize = 18)\n",
    "\n",
    "ax2.legend(loc = 'best')\n",
    "\n",
    "#find default threshold\n",
    "close_default = np.argmin(np.abs(thresholds_roc - 0.5))\n",
    "ax2.plot(fpr[close_default], tpr[close_default], 'o', markersize = 8)\n",
    "plt.tight_layout() "
   ]
  },
  {
   "cell_type": "code",
   "execution_count": 217,
   "metadata": {},
   "outputs": [],
   "source": [
    "y_hat = xgb_model.predict_proba(x_test.loc[x_test.STATE == 3].drop(\"STATE\", axis = 1))[:, 1]"
   ]
  },
  {
   "cell_type": "code",
   "execution_count": 218,
   "metadata": {},
   "outputs": [],
   "source": [
    "precision, recall, thresholds_pr = sklearn.metrics.precision_recall_curve(y_test.loc[x_test.STATE == 3], y_hat)\n",
    "auc_prc = sklearn.metrics.auc(recall, precision)\n",
    "fpr, tpr, _ = sklearn.metrics.roc_curve(y_test.loc[x_test.STATE == 3], y_hat)\n",
    "auc_roc = sklearn.metrics.auc(fpr, tpr)"
   ]
  },
  {
   "cell_type": "code",
   "execution_count": 219,
   "metadata": {},
   "outputs": [
    {
     "data": {
      "text/plain": [
       "0.4736070381231672"
      ]
     },
     "execution_count": 219,
     "metadata": {},
     "output_type": "execute_result"
    }
   ],
   "source": [
    "precision_score(y_test.loc[x_test.STATE == 3], y_hat > .5)"
   ]
  },
  {
   "cell_type": "code",
   "execution_count": 220,
   "metadata": {},
   "outputs": [
    {
     "data": {
      "text/plain": [
       "0.7465499831706496"
      ]
     },
     "execution_count": 220,
     "metadata": {},
     "output_type": "execute_result"
    }
   ],
   "source": [
    "accuracy_score(y_test.loc[x_test.STATE == 3], y_hat > .5)"
   ]
  },
  {
   "cell_type": "code",
   "execution_count": 221,
   "metadata": {},
   "outputs": [
    {
     "data": {
      "text/plain": [
       "0.6456078702173975"
      ]
     },
     "execution_count": 221,
     "metadata": {},
     "output_type": "execute_result"
    }
   ],
   "source": [
    "balanced_accuracy_score(y_test.loc[x_test.STATE == 3], y_hat > .5)"
   ]
  },
  {
   "cell_type": "code",
   "execution_count": 222,
   "metadata": {},
   "outputs": [
    {
     "data": {
      "text/plain": [
       "0.4504881450488145"
      ]
     },
     "execution_count": 222,
     "metadata": {},
     "output_type": "execute_result"
    }
   ],
   "source": [
    "recall_score(y_test.loc[x_test.STATE == 3], y_hat > .5)"
   ]
  },
  {
   "cell_type": "code",
   "execution_count": 223,
   "metadata": {},
   "outputs": [
    {
     "data": {
      "text/plain": [
       "0.46175839885632597"
      ]
     },
     "execution_count": 223,
     "metadata": {},
     "output_type": "execute_result"
    }
   ],
   "source": [
    "f1_score(y_test.loc[x_test.STATE == 3], y_hat > .5)"
   ]
  },
  {
   "cell_type": "code",
   "execution_count": 224,
   "metadata": {},
   "outputs": [
    {
     "name": "stdout",
     "output_type": "stream",
     "text": [
      "AUROC:0.719\n",
      "AUPRC:0.493\n"
     ]
    }
   ],
   "source": [
    "print(\"AUROC:{:.3f}\".format(auc_roc))\n",
    "print(\"AUPRC:{:.3f}\".format(auc_prc))"
   ]
  },
  {
   "cell_type": "code",
   "execution_count": 225,
   "metadata": {},
   "outputs": [
    {
     "data": {
      "image/png": "[encoded data removed]",
      "text/plain": [
       "<Figure size 864x432 with 2 Axes>"
      ]
     },
     "metadata": {
      "needs_background": "light"
     },
     "output_type": "display_data"
    }
   ],
   "source": [
    "from sklearn.metrics import average_precision_score, roc_curve, auc\n",
    "\n",
    "avg_pre = average_precision_score(y_test.loc[x_test.STATE == 3], y_hat)\n",
    "fig, (ax1, ax2) = plt.subplots(1,2,figsize = (12,6))\n",
    "ax1.plot(recall,precision,  label = \" average precision = {:0.2f}\".format(avg_pre), lw = 3, alpha = 0.7)\n",
    "ax1.set_ylabel('Precision', fontsize = 14)\n",
    "ax1.set_xlabel('Recall', fontsize = 14)\n",
    "ax1.set_title('Precision-Recall Curve', fontsize = 18)\n",
    "ax1.legend(loc = 'best')\n",
    "\n",
    "#find default threshold\n",
    "close_default = np.argmin(np.abs(thresholds_pr - 0.5))\n",
    "ax1.plot (recall[close_default], precision[close_default], 'o', markersize = 8)\n",
    "\n",
    "fpr, tpr, thresholds_roc = roc_curve(y_test.loc[x_test.STATE == 3], y_hat)\n",
    "roc_auc = auc(fpr,tpr)\n",
    "ax2.plot(fpr,tpr, label = \" area = {:0.2f}\".format(roc_auc), lw = 3, alpha = 0.7)\n",
    "ax2.plot([0,1], [0,1], 'r', linestyle = \"--\", lw = 2)\n",
    "ax2.set_xlabel(\"False Positive Rate\", fontsize = 14)\n",
    "ax2.set_ylabel(\"True Positive Rate\", fontsize = 14)\n",
    "ax2.set_title(\"ROC Curve\", fontsize = 18)\n",
    "\n",
    "ax2.legend(loc = 'best')\n",
    "\n",
    "#find default threshold\n",
    "close_default = np.argmin(np.abs(thresholds_roc - 0.5))\n",
    "ax2.plot(fpr[close_default], tpr[close_default], 'o', markersize = 8)\n",
    "plt.tight_layout() "
   ]
  },
  {
   "cell_type": "code",
   "execution_count": 226,
   "metadata": {},
   "outputs": [],
   "source": [
    "y_hat = xgb_model.predict_proba(x_test.loc[x_test.STATE == 4].drop(\"STATE\", axis = 1))[:, 1]"
   ]
  },
  {
   "cell_type": "code",
   "execution_count": 227,
   "metadata": {},
   "outputs": [],
   "source": [
    "precision, recall, thresholds_pr = sklearn.metrics.precision_recall_curve(y_test.loc[x_test.STATE == 4], y_hat)\n",
    "auc_prc = sklearn.metrics.auc(recall, precision)\n",
    "fpr, tpr, _ = sklearn.metrics.roc_curve(y_test.loc[x_test.STATE == 4], y_hat)\n",
    "auc_roc = sklearn.metrics.auc(fpr, tpr)"
   ]
  },
  {
   "cell_type": "code",
   "execution_count": 228,
   "metadata": {},
   "outputs": [
    {
     "data": {
      "text/plain": [
       "0.3232169954476479"
      ]
     },
     "execution_count": 228,
     "metadata": {},
     "output_type": "execute_result"
    }
   ],
   "source": [
    "precision_score(y_test.loc[x_test.STATE == 4], y_hat > .5)"
   ]
  },
  {
   "cell_type": "code",
   "execution_count": 229,
   "metadata": {},
   "outputs": [
    {
     "data": {
      "text/plain": [
       "0.8620404107320305"
      ]
     },
     "execution_count": 229,
     "metadata": {},
     "output_type": "execute_result"
    }
   ],
   "source": [
    "accuracy_score(y_test.loc[x_test.STATE == 4], y_hat > .5)"
   ]
  },
  {
   "cell_type": "code",
   "execution_count": 230,
   "metadata": {},
   "outputs": [
    {
     "data": {
      "text/plain": [
       "0.6364922765722691"
      ]
     },
     "execution_count": 230,
     "metadata": {},
     "output_type": "execute_result"
    }
   ],
   "source": [
    "balanced_accuracy_score(y_test.loc[x_test.STATE == 4], y_hat > .5)"
   ]
  },
  {
   "cell_type": "code",
   "execution_count": 231,
   "metadata": {},
   "outputs": [
    {
     "data": {
      "text/plain": [
       "0.355"
      ]
     },
     "execution_count": 231,
     "metadata": {},
     "output_type": "execute_result"
    }
   ],
   "source": [
    "recall_score(y_test.loc[x_test.STATE == 4], y_hat > .5)"
   ]
  },
  {
   "cell_type": "code",
   "execution_count": 232,
   "metadata": {},
   "outputs": [
    {
     "data": {
      "text/plain": [
       "0.3383637807783955"
      ]
     },
     "execution_count": 232,
     "metadata": {},
     "output_type": "execute_result"
    }
   ],
   "source": [
    "f1_score(y_test.loc[x_test.STATE == 4], y_hat > .5)"
   ]
  },
  {
   "cell_type": "code",
   "execution_count": 233,
   "metadata": {},
   "outputs": [
    {
     "name": "stdout",
     "output_type": "stream",
     "text": [
      "AUROC:0.780\n",
      "AUPRC:0.282\n"
     ]
    }
   ],
   "source": [
    "print(\"AUROC:{:.3f}\".format(auc_roc))\n",
    "print(\"AUPRC:{:.3f}\".format(auc_prc))"
   ]
  },
  {
   "cell_type": "code",
   "execution_count": 234,
   "metadata": {
    "scrolled": true
   },
   "outputs": [
    {
     "data": {
      "image/png": "[encoded data removed]",
      "text/plain": [
       "<Figure size 864x432 with 2 Axes>"
      ]
     },
     "metadata": {
      "needs_background": "light"
     },
     "output_type": "display_data"
    }
   ],
   "source": [
    "from sklearn.metrics import average_precision_score, roc_curve, auc\n",
    "\n",
    "avg_pre = average_precision_score(y_test.loc[x_test.STATE == 4], y_hat)\n",
    "fig, (ax1, ax2) = plt.subplots(1,2,figsize = (12,6))\n",
    "ax1.plot(recall,precision,  label = \" average precision = {:0.2f}\".format(avg_pre), lw = 3, alpha = 0.7)\n",
    "ax1.set_ylabel('Precision', fontsize = 14)\n",
    "ax1.set_xlabel('Recall', fontsize = 14)\n",
    "ax1.set_title('Precision-Recall Curve', fontsize = 18)\n",
    "ax1.legend(loc = 'best')\n",
    "\n",
    "#find default threshold\n",
    "close_default = np.argmin(np.abs(thresholds_pr - 0.5))\n",
    "ax1.plot (recall[close_default], precision[close_default], 'o', markersize = 8)\n",
    "\n",
    "fpr, tpr, thresholds_roc = roc_curve(y_test.loc[x_test.STATE == 4], y_hat)\n",
    "roc_auc = auc(fpr,tpr)\n",
    "ax2.plot(fpr,tpr, label = \" area = {:0.2f}\".format(roc_auc), lw = 3, alpha = 0.7)\n",
    "ax2.plot([0,1], [0,1], 'r', linestyle = \"--\", lw = 2)\n",
    "ax2.set_xlabel(\"False Positive Rate\", fontsize = 14)\n",
    "ax2.set_ylabel(\"True Positive Rate\", fontsize = 14)\n",
    "ax2.set_title(\"ROC Curve\", fontsize = 18)\n",
    "\n",
    "ax2.legend(loc = 'best')\n",
    "\n",
    "#find default threshold\n",
    "close_default = np.argmin(np.abs(thresholds_roc - 0.5))\n",
    "ax2.plot(fpr[close_default], tpr[close_default], 'o', markersize = 8)\n",
    "plt.tight_layout() "
   ]
  },
  {
   "cell_type": "code",
   "execution_count": 235,
   "metadata": {},
   "outputs": [],
   "source": [
    "y_hat = xgb_model.predict_proba(x_test.loc[x_test.STATE == 5].drop(\"STATE\", axis = 1))[:, 1]"
   ]
  },
  {
   "cell_type": "code",
   "execution_count": 236,
   "metadata": {},
   "outputs": [],
   "source": [
    "precision, recall, thresholds_pr = sklearn.metrics.precision_recall_curve(y_test.loc[x_test.STATE == 5], y_hat)\n",
    "auc_prc = sklearn.metrics.auc(recall, precision)\n",
    "fpr, tpr, _ = sklearn.metrics.roc_curve(y_test.loc[x_test.STATE == 5], y_hat)\n",
    "auc_roc = sklearn.metrics.auc(fpr, tpr)"
   ]
  },
  {
   "cell_type": "code",
   "execution_count": 237,
   "metadata": {},
   "outputs": [
    {
     "data": {
      "text/plain": [
       "0.5563079116179616"
      ]
     },
     "execution_count": 237,
     "metadata": {},
     "output_type": "execute_result"
    }
   ],
   "source": [
    "precision_score(y_test.loc[x_test.STATE == 5], y_hat > .5)"
   ]
  },
  {
   "cell_type": "code",
   "execution_count": 238,
   "metadata": {},
   "outputs": [
    {
     "data": {
      "text/plain": [
       "0.6849925705794948"
      ]
     },
     "execution_count": 238,
     "metadata": {},
     "output_type": "execute_result"
    }
   ],
   "source": [
    "accuracy_score(y_test.loc[x_test.STATE == 5], y_hat > .5)"
   ]
  },
  {
   "cell_type": "code",
   "execution_count": 239,
   "metadata": {},
   "outputs": [
    {
     "data": {
      "text/plain": [
       "0.6885388180454853"
      ]
     },
     "execution_count": 239,
     "metadata": {},
     "output_type": "execute_result"
    }
   ],
   "source": [
    "balanced_accuracy_score(y_test.loc[x_test.STATE == 5], y_hat > .5)"
   ]
  },
  {
   "cell_type": "code",
   "execution_count": 240,
   "metadata": {},
   "outputs": [
    {
     "data": {
      "text/plain": [
       "0.7018884892086331"
      ]
     },
     "execution_count": 240,
     "metadata": {},
     "output_type": "execute_result"
    }
   ],
   "source": [
    "recall_score(y_test.loc[x_test.STATE == 5], y_hat > .5)"
   ]
  },
  {
   "cell_type": "code",
   "execution_count": 241,
   "metadata": {},
   "outputs": [
    {
     "data": {
      "text/plain": [
       "0.6206759443339961"
      ]
     },
     "execution_count": 241,
     "metadata": {},
     "output_type": "execute_result"
    }
   ],
   "source": [
    "f1_score(y_test.loc[x_test.STATE == 5], y_hat > .5)"
   ]
  },
  {
   "cell_type": "code",
   "execution_count": 242,
   "metadata": {},
   "outputs": [
    {
     "name": "stdout",
     "output_type": "stream",
     "text": [
      "AUROC:0.761\n",
      "AUPRC:0.676\n"
     ]
    }
   ],
   "source": [
    "print(\"AUROC:{:.3f}\".format(auc_roc))\n",
    "print(\"AUPRC:{:.3f}\".format(auc_prc))"
   ]
  },
  {
   "cell_type": "code",
   "execution_count": 243,
   "metadata": {},
   "outputs": [
    {
     "data": {
      "image/png": "[encoded data removed]",
      "text/plain": [
       "<Figure size 864x432 with 2 Axes>"
      ]
     },
     "metadata": {
      "needs_background": "light"
     },
     "output_type": "display_data"
    }
   ],
   "source": [
    "from sklearn.metrics import average_precision_score, roc_curve, auc\n",
    "\n",
    "avg_pre = average_precision_score(y_test.loc[x_test.STATE == 5], y_hat)\n",
    "fig, (ax1, ax2) = plt.subplots(1,2,figsize = (12,6))\n",
    "ax1.plot(recall,precision,  label = \" average precision = {:0.2f}\".format(avg_pre), lw = 3, alpha = 0.7)\n",
    "ax1.set_ylabel('Precision', fontsize = 14)\n",
    "ax1.set_xlabel('Recall', fontsize = 14)\n",
    "ax1.set_title('Precision-Recall Curve', fontsize = 18)\n",
    "ax1.legend(loc = 'best')\n",
    "\n",
    "#find default threshold\n",
    "close_default = np.argmin(np.abs(thresholds_pr - 0.5))\n",
    "ax1.plot (recall[close_default], precision[close_default], 'o', markersize = 8)\n",
    "\n",
    "fpr, tpr, thresholds_roc = roc_curve(y_test.loc[x_test.STATE == 5], y_hat)\n",
    "roc_auc = auc(fpr,tpr)\n",
    "ax2.plot(fpr,tpr, label = \" area = {:0.2f}\".format(roc_auc), lw = 3, alpha = 0.7)\n",
    "ax2.plot([0,1], [0,1], 'r', linestyle = \"--\", lw = 2)\n",
    "ax2.set_xlabel(\"False Positive Rate\", fontsize = 14)\n",
    "ax2.set_ylabel(\"True Positive Rate\", fontsize = 14)\n",
    "ax2.set_title(\"ROC Curve\", fontsize = 18)\n",
    "\n",
    "ax2.legend(loc = 'best')\n",
    "\n",
    "#find default threshold\n",
    "close_default = np.argmin(np.abs(thresholds_roc - 0.5))\n",
    "ax2.plot(fpr[close_default], tpr[close_default], 'o', markersize = 8)\n",
    "plt.tight_layout() "
   ]
  },
  {
   "cell_type": "markdown",
   "metadata": {},
   "source": [
    "# XGBoost validation on held out state"
   ]
  },
  {
   "cell_type": "code",
   "execution_count": 244,
   "metadata": {},
   "outputs": [],
   "source": [
    "y_hat = xgb_model.predict_proba(x_val.drop(\"STATE\", axis = 1))[:, 1]"
   ]
  },
  {
   "cell_type": "code",
   "execution_count": 245,
   "metadata": {},
   "outputs": [],
   "source": [
    "precision, recall, thresholds_pr = sklearn.metrics.precision_recall_curve(y_val, y_hat)\n",
    "auc_prc = sklearn.metrics.auc(recall, precision)\n",
    "fpr, tpr, _ = sklearn.metrics.roc_curve(y_val, y_hat)\n",
    "auc_roc = sklearn.metrics.auc(fpr, tpr)"
   ]
  },
  {
   "cell_type": "code",
   "execution_count": 246,
   "metadata": {
    "scrolled": true
   },
   "outputs": [
    {
     "data": {
      "text/plain": [
       "0.47818064397084603"
      ]
     },
     "execution_count": 246,
     "metadata": {},
     "output_type": "execute_result"
    }
   ],
   "source": [
    "precision_score(y_val, y_hat > .5)"
   ]
  },
  {
   "cell_type": "code",
   "execution_count": 247,
   "metadata": {},
   "outputs": [
    {
     "data": {
      "text/plain": [
       "0.6671333333333334"
      ]
     },
     "execution_count": 247,
     "metadata": {},
     "output_type": "execute_result"
    }
   ],
   "source": [
    "accuracy_score(y_val, y_hat > .5)"
   ]
  },
  {
   "cell_type": "code",
   "execution_count": 248,
   "metadata": {},
   "outputs": [
    {
     "data": {
      "text/plain": [
       "0.6343779366620212"
      ]
     },
     "execution_count": 248,
     "metadata": {},
     "output_type": "execute_result"
    }
   ],
   "source": [
    "balanced_accuracy_score(y_val, y_hat > .5)"
   ]
  },
  {
   "cell_type": "code",
   "execution_count": 249,
   "metadata": {},
   "outputs": [
    {
     "data": {
      "text/plain": [
       "0.5448333858929886"
      ]
     },
     "execution_count": 249,
     "metadata": {},
     "output_type": "execute_result"
    }
   ],
   "source": [
    "recall_score(y_val, y_hat > .5)"
   ]
  },
  {
   "cell_type": "code",
   "execution_count": 250,
   "metadata": {},
   "outputs": [
    {
     "data": {
      "text/plain": [
       "0.5093356918238994"
      ]
     },
     "execution_count": 250,
     "metadata": {},
     "output_type": "execute_result"
    }
   ],
   "source": [
    "f1_score(y_val, y_hat > .5)"
   ]
  },
  {
   "cell_type": "code",
   "execution_count": 251,
   "metadata": {},
   "outputs": [
    {
     "name": "stdout",
     "output_type": "stream",
     "text": [
      "AUROC:0.688\n",
      "AUPRC:0.549\n"
     ]
    }
   ],
   "source": [
    "print(\"AUROC:{:.3f}\".format(auc_roc))\n",
    "print(\"AUPRC:{:.3f}\".format(auc_prc))"
   ]
  },
  {
   "cell_type": "code",
   "execution_count": 252,
   "metadata": {},
   "outputs": [
    {
     "data": {
      "image/png": "[encoded data removed]",
      "text/plain": [
       "<Figure size 864x432 with 2 Axes>"
      ]
     },
     "metadata": {
      "needs_background": "light"
     },
     "output_type": "display_data"
    }
   ],
   "source": [
    "from sklearn.metrics import average_precision_score, roc_curve, auc\n",
    "\n",
    "avg_pre = average_precision_score(y_val, y_hat)\n",
    "fig, (ax1, ax2) = plt.subplots(1,2,figsize = (12,6))\n",
    "ax1.plot(recall,precision,  label = \" average precision = {:0.2f}\".format(avg_pre), lw = 3, alpha = 0.7)\n",
    "ax1.set_ylabel('Precision', fontsize = 14)\n",
    "ax1.set_xlabel('Recall', fontsize = 14)\n",
    "ax1.set_title('Precision-Recall Curve', fontsize = 18)\n",
    "ax1.legend(loc = 'best')\n",
    "\n",
    "#find default threshold\n",
    "close_default = np.argmin(np.abs(thresholds_pr - 0.5))\n",
    "ax1.plot (recall[close_default], precision[close_default], 'o', markersize = 8)\n",
    "\n",
    "fpr, tpr, thresholds_roc = roc_curve(y_val, y_hat)\n",
    "roc_auc = auc(fpr,tpr)\n",
    "ax2.plot(fpr,tpr, label = \" area = {:0.2f}\".format(roc_auc), lw = 3, alpha = 0.7)\n",
    "ax2.plot([0,1], [0,1], 'r', linestyle = \"--\", lw = 2)\n",
    "ax2.set_xlabel(\"False Positive Rate\", fontsize = 14)\n",
    "ax2.set_ylabel(\"True Positive Rate\", fontsize = 14)\n",
    "ax2.set_title(\"ROC Curve\", fontsize = 18)\n",
    "\n",
    "ax2.legend(loc = 'best')\n",
    "\n",
    "#find default threshold\n",
    "close_default = np.argmin(np.abs(thresholds_roc - 0.5))\n",
    "ax2.plot(fpr[close_default], tpr[close_default], 'o', markersize = 8)\n",
    "plt.tight_layout() "
   ]
  }
 ],
 "metadata": {
  "kernelspec": {
   "display_name": "Python 3",
   "language": "python",
   "name": "python3"
  },
  "language_info": {
   "codemirror_mode": {
    "name": "ipython",
    "version": 3
   },
   "file_extension": ".py",
   "mimetype": "text/x-python",
   "name": "python",
   "nbconvert_exporter": "python",
   "pygments_lexer": "ipython3",
   "version": "3.8.3"
  }
 },
 "nbformat": 4,
 "nbformat_minor": 4
}
